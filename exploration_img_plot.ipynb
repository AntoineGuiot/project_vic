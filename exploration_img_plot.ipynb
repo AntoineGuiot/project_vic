{
 "cells": [
  {
   "cell_type": "code",
   "execution_count": 2,
   "metadata": {},
   "outputs": [],
   "source": [
    "import matplotlib.pyplot as plt\n",
    "import numpy as np\n",
    "import pandas as pd\n",
    "import matplotlib.pyplot as plt\n",
    "import matplotlib.image as mpimg\n",
    "import cv2\n",
    "from data_preprocess import dataFormatter\n",
    "from skimage import data, exposure\n",
    "from model import Model\n",
    "import copy\n",
    "from sklearn.model_selection import train_test_split\n",
    "%load_ext autoreload\n",
    "%autoreload 2\n",
    "import dlib\n",
    "from time import time\n"
   ]
  },
  {
   "cell_type": "markdown",
   "metadata": {},
   "source": [
    "# Project : O.Frelot A.Guiot"
   ]
  },
  {
   "cell_type": "code",
   "execution_count": 3,
   "metadata": {},
   "outputs": [],
   "source": [
    "csv  = pd.read_csv('../challenges-in-representation-learning-facial-expression-recognition-challenge/train.csv')\n",
    "# we filter our data set and only keep images 'happy', 'sad', 'angry'\n",
    "csv = csv[(csv.emotion ==0) | (csv.emotion==3) | (csv.emotion==4)]\n",
    "data = copy.deepcopy(csv)"
   ]
  },
  {
   "cell_type": "code",
   "execution_count": 4,
   "metadata": {},
   "outputs": [],
   "source": [
    "emotions_mapping = dict({0:'Angry', 1:'Disgust', 2:'Fear', 3:'Happy', 4:'Sad', 5:'Surprise', 6:'Neutral'})"
   ]
  },
  {
   "cell_type": "code",
   "execution_count": 5,
   "metadata": {},
   "outputs": [],
   "source": [
    "def get_image(index):\n",
    "    img = np.array([int(i) for i in data.pixels.values[index].split()]).reshape((48,48))\n",
    "    return img\n",
    "\n",
    "def plot_image(index= 10):\n",
    "    plt.figure(figsize=(6,4))\n",
    "    img = get_image(index)\n",
    "    plt.imshow(img, cmap='gray')\n",
    "    plt.title(emotions_mapping[data.emotion.values[index]])"
   ]
  },
  {
   "cell_type": "code",
   "execution_count": 6,
   "metadata": {},
   "outputs": [],
   "source": [
    "data_train, data_test = train_test_split(csv)\n",
    "\n",
    "data_formatter_train = dataFormatter(data_train)\n",
    "data_formatter_test = dataFormatter(data_test)"
   ]
  },
  {
   "cell_type": "markdown",
   "metadata": {},
   "source": [
    "# Abstract\n",
    "In this project, we will focus on an image classification problem. Our dataset contains a huge number of labelled images representing human faces with different face expression ('Angry', 'Disgust', 'Fear', 'Happy', 'Sad', 'Surprise', 'Neutral'). The idea is to classify these images into these 7 categories. The state of the art of this problem has been done using a deep learning approach in [1] which obtains 75% of accuracy, a Convolutional Neural Network was used during several hours on GPU to obtain these results. Here we want to approach this problem with a much simpler algorithm. Our idea is to try two different approaches : \n",
    "- Using HoG features \n",
    "- Using faces landmarks features \n",
    "- Both  \n",
    "\n",
    "Moreover to simplify the problem we will reduce the number of categories (we will keep: \"Angry\", \"Happy\" and \"Sad\").\n",
    "At first, we will start with 3 categories and then move to 7 categories to see the impact on our accuracy. In the end, we succeeded to obtain a score of around XX % (for 3 categories) which is far from the state of the art. But not to bad against the random prediction (0.33)."
   ]
  },
  {
   "cell_type": "markdown",
   "metadata": {},
   "source": [
    "# Introduction  \n",
    "As we know, deep learning approach is the state of the art of visual computing problems. For this case, the best score has been obtained using a convolutional neural network in [1].  \n",
    "Here we would like to try a much simpler approach using HoG features.  \n",
    "The main idea of our idea is to see if a simple algorithm can provide a good performance. Indeed, a neural netwok can be very long to train (several hours on multi GPU for the face expression problem). Here we will try to classify our images using a simple support verctor machine (SVM) algorithm. The training time for this type of algorithm is very face (around 1 minute).  This might be usefull if we want to train a model on a huge amount ouf data or on a dataset of high quality images"
   ]
  },
  {
   "cell_type": "markdown",
   "metadata": {},
   "source": [
    "# Problem Definition\n",
    "### Data set description  \n",
    "Our data set contains 16040 images of labeled data. Each image is described with 48x48 pixels (2304 pixels).  "
   ]
  },
  {
   "cell_type": "code",
   "execution_count": 7,
   "metadata": {},
   "outputs": [
    {
     "data": {
      "image/png": "[encoded data removed]",
      "text/plain": [
       "<Figure size 432x288 with 1 Axes>"
      ]
     },
     "metadata": {
      "needs_background": "light"
     },
     "output_type": "display_data"
    }
   ],
   "source": [
    "plot_image(7)"
   ]
  },
  {
   "cell_type": "markdown",
   "metadata": {},
   "source": [
    "The distribution of the categories is as follows : "
   ]
  },
  {
   "cell_type": "code",
   "execution_count": 8,
   "metadata": {},
   "outputs": [
    {
     "name": "stdout",
     "output_type": "stream",
     "text": [
      "Happy    0.449813\n",
      "Sad      0.301122\n",
      "Angry    0.249065\n",
      "Name: emotion, dtype: float64\n"
     ]
    }
   ],
   "source": [
    "emotions_mapping\n",
    "repartition = csv.emotion.value_counts(True)\n",
    "repartition.index = repartition.index.map(emotions_mapping)\n",
    "print(repartition)"
   ]
  },
  {
   "cell_type": "markdown",
   "metadata": {},
   "source": [
    "The data set is unbalenced (all categories doesn't contain the same number of image) "
   ]
  },
  {
   "cell_type": "markdown",
   "metadata": {},
   "source": [
    "# Methodology"
   ]
  },
  {
   "cell_type": "markdown",
   "metadata": {},
   "source": [
    "### HoG features  \n",
    "Here we will explain how to describe an image using HoG features :  \n",
    "This could be done in several steps :   \n",
    "- Calculate the Gradient Images   \n",
    "\n",
    "At first we compute the gradient $g_x $ and $g_y$  \n",
    "then :   \n",
    "$ g= \\sqrt{g_x + g_y} $  \n",
    "$ \\theta = arctan(\\frac{g_y}{g_x}) $ \n",
    "\n",
    "- Calculate Histogram of Gradients in 4×4 cells  \n",
    "\n",
    "In this step, the image is divided into cells each cells contains 4x4 pixels and a histogram of gradients is calculated for each cell. The histogram contains 9 (as recommended in the original paper) bins corresponding to angles 0, 20, 40 … 160. \n",
    "\n",
    "- Normalization  \n",
    "\n",
    "The next step of the process in to normalise each gradient histogram. Indeed some part of the image might have a bigger brigtness than others. This could lead to a difference in gradient histograms. \n",
    "\n",
    "The idea is to normalize each histogram  over a bigger sized block of 8×8. A 8×8 block has 4 histograms which can be concatenated into one vector and can be normalized. Then we can move this 8x8 block by 4 pixel and then recompute the normalization in the block.\n",
    "\n",
    "\n",
    "<img src=\"hog_features.png\" alt=\"Drawing\" style=\"width: 400px;\" />\n"
   ]
  },
  {
   "cell_type": "markdown",
   "metadata": {},
   "source": [
    "Below the result for our case"
   ]
  },
  {
   "cell_type": "code",
   "execution_count": 9,
   "metadata": {},
   "outputs": [
    {
     "name": "stderr",
     "output_type": "stream",
     "text": [
      "/anaconda3/lib/python3.7/site-packages/skimage/feature/_hog.py:150: skimage_deprecation: Default value of `block_norm`==`L1` is deprecated and will be changed to `L2-Hys` in v0.15. To supress this message specify explicitly the normalization method.\n",
      "  skimage_deprecation)\n",
      "/anaconda3/lib/python3.7/site-packages/skimage/feature/_hog.py:248: skimage_deprecation: Argument `visualise` is deprecated and will be changed to `visualize` in v0.16\n",
      "  'be changed to `visualize` in v0.16', skimage_deprecation)\n",
      "/Users/antoineguiot/Documents/OMA/VIC/project/project_vic/data_preprocess.py:35: SettingWithCopyWarning: \n",
      "A value is trying to be set on a copy of a slice from a DataFrame.\n",
      "Try using .loc[row_indexer,col_indexer] = value instead\n",
      "\n",
      "See the caveats in the documentation: http://pandas.pydata.org/pandas-docs/stable/user_guide/indexing.html#returning-a-view-versus-a-copy\n",
      "  self.data['hog_features'] = hog_features\n"
     ]
    }
   ],
   "source": [
    "hog_image_train = data_formatter_train.compute_hog()\n",
    "hog_image_test = data_formatter_test.compute_hog()"
   ]
  },
  {
   "cell_type": "code",
   "execution_count": 10,
   "metadata": {},
   "outputs": [
    {
     "data": {
      "image/png": "[encoded data removed]",
      "text/plain": [
       "<Figure size 576x288 with 2 Axes>"
      ]
     },
     "metadata": {
      "needs_background": "light"
     },
     "output_type": "display_data"
    }
   ],
   "source": [
    "index = 1\n",
    "\n",
    "hog_image_rescaled = exposure.rescale_intensity(hog_image_train[index], in_range=(0, 10))\n",
    "img = get_image(index)\n",
    "\n",
    "fig, (ax1, ax2) = plt.subplots(1, 2, figsize=(8, 4), sharex=True, sharey=True)\n",
    "ax1.set_title(emotions_mapping[csv.emotion.values[index]])\n",
    "ax1.axis('off')\n",
    "ax1.imshow(img, cmap=plt.cm.gray)\n",
    "\n",
    "# Rescale histogram for better display\n",
    "\n",
    "ax2.axis('off')\n",
    "ax2.imshow(hog_image_rescaled, cmap=plt.cm.gray)\n",
    "ax2.set_title('Histogram of Oriented Gradients')\n",
    "plt.show()"
   ]
  },
  {
   "cell_type": "markdown",
   "metadata": {},
   "source": [
    "### lbp features  \n",
    "Here we will explain how to describe an image using local_binary_pattern (lbp)   \n",
    "\n",
    "\n",
    "LBP was first described in 1994. It has since been found to be a powerful feature for texture classification; it has further been determined that when LBP is combined with the Histogram of oriented gradients (HOG) descriptor, it improves the detection performance considerably on some datasets.  \n",
    "\n",
    "The LBP feature vector, in its simplest form, is created in the following manner:\n",
    "\n",
    "- Divide the examined window into cells (e.g. 16x16 pixels for each cell) (for a 48x48 it will split the image into 9 parts)  \n",
    "- For each pixel in a cell, compare the pixel to each of its 8 neighbors (on its left-top, left-middle, left-bottom, right-top, etc.). Follow the pixels along a circle, i.e. clockwise or counter-clockwise.\n",
    "\n",
    "<img src=\"lbp_feature_points.png\" alt=\"Drawing\" style=\"width: 250px;\" />\n",
    "\n",
    "\n",
    "- Where the center pixel's value is greater than the neighbor's value, write \"0\". Otherwise, write \"1\". This gives an 8-digit binary number (which is usually converted to decimal for convenience).  \n",
    "\n",
    "\n",
    "\n",
    "<img src=\"lbp_explained.png\" alt=\"Drawing\" style=\"width: 450px;\" />\n",
    "\n",
    "- Compute the histogram, over the cell, of the frequency of each \"number\" occurring (i.e., each combination of which pixels are smaller and which are greater than the center). Here we will create an histogram containing only 255 bins. \n",
    "\n",
    "<img src=\"hist_explain_lbp.png\" alt=\"Drawing\" style=\"width: 300px;\" />\n",
    "\n",
    "\n",
    "\n",
    "- Concatenate histograms of all cells. This gives a feature vector for the entire window.  \n",
    "\n",
    "We will implement the methods explained in the article from Caifeng Shan, Shaogang Gong and Peter W. McOwan [2] \n"
   ]
  },
  {
   "cell_type": "code",
   "execution_count": 11,
   "metadata": {},
   "outputs": [
    {
     "name": "stderr",
     "output_type": "stream",
     "text": [
      "/Users/antoineguiot/Documents/OMA/VIC/project/project_vic/data_preprocess.py:69: SettingWithCopyWarning: \n",
      "A value is trying to be set on a copy of a slice from a DataFrame.\n",
      "Try using .loc[row_indexer,col_indexer] = value instead\n",
      "\n",
      "See the caveats in the documentation: http://pandas.pydata.org/pandas-docs/stable/user_guide/indexing.html#returning-a-view-versus-a-copy\n",
      "  self.data['lbp'] = lbp_hist_list\n",
      "/Users/antoineguiot/Documents/OMA/VIC/project/project_vic/data_preprocess.py:70: SettingWithCopyWarning: \n",
      "A value is trying to be set on a copy of a slice from a DataFrame.\n",
      "Try using .loc[row_indexer,col_indexer] = value instead\n",
      "\n",
      "See the caveats in the documentation: http://pandas.pydata.org/pandas-docs/stable/user_guide/indexing.html#returning-a-view-versus-a-copy\n",
      "  self.data['is_lbp_nan'] = np.sum(np.stack(self.data.lbp.values), axis=1)\n"
     ]
    }
   ],
   "source": [
    "lbp_train = data_formatter_train.compute_lbp()\n",
    "lbp_test = data_formatter_test.compute_lbp()"
   ]
  },
  {
   "cell_type": "markdown",
   "metadata": {},
   "source": [
    "### Landmarks features  #TODO\n",
    "Facial landmarks are used to localize and represent salient regions of the face, such as:  \n",
    "\n",
    "- Eyes\n",
    "- Eyebrows\n",
    "- Nose\n",
    "- Mouth\n",
    "- Jawline  \n",
    "\n",
    "Facial landmarks have been successfully applied to face alignment, head pose estimation, face swapping, blink detection and much more.  \n",
    "\n",
    "Detecting facial landmarks is a subset of the shape prediction problem. Given an input image, a shape predictor attempts to localize key points of interest along the shape.\n",
    "\n",
    "In the context of facial landmarks, our goal is detect important facial structures on the face using shape prediction methods.\n",
    "\n",
    "Detecting facial landmarks is therefore a two step process:\n",
    "\n",
    "- Step 1 : Localize the face in the image.  \n",
    "- Step 2: Detect the key facial structures on the face ROI.\n",
    "\n",
    "In our case : on each image we only have one face. Therefore we don't need the first step. We will just give all the image as the face to the step 2.\n",
    "We will use the facial landmarks detector of the library dlib. This detector is the implementation of the paper of Kazemi and Sullivan (2014) [2].\n",
    "This method is based on 2 points:\n",
    " - A set of facial landmarks labeled on an image. These images are labelled manually. 68 points surrounding the face are defined.\n",
    " - The probability of the distance between two input pixels.\n",
    " \n",
    "Given this two points a model is learned to detect the facial landmark an image. There is no feature extraction, the model is only basz=ed on the pixel intensity. That's why it is very quick.\n",
    "\n",
    "<img src=\"facial_landmarks.jpg\" alt=\"Drawing\" style=\"width: 300px;\" />\n",
    "\n",
    "In this project we will work with the dlib landmarks predicator. It computes the coordinates of 68 landmarks on each face. It also exists others predicators using more points.\n",
    "\n",
    "<img src=\"image_landmarks.png\" alt=\"Drawing\" style=\"width: 300px;\" />\n",
    "\n"
   ]
  },
  {
   "cell_type": "code",
   "execution_count": 12,
   "metadata": {},
   "outputs": [
    {
     "name": "stderr",
     "output_type": "stream",
     "text": [
      "/Users/antoineguiot/Documents/OMA/VIC/project/project_vic/data_preprocess.py:47: SettingWithCopyWarning: \n",
      "A value is trying to be set on a copy of a slice from a DataFrame.\n",
      "Try using .loc[row_indexer,col_indexer] = value instead\n",
      "\n",
      "See the caveats in the documentation: http://pandas.pydata.org/pandas-docs/stable/user_guide/indexing.html#returning-a-view-versus-a-copy\n",
      "  self.data['landmarks'] = landmarks\n"
     ]
    }
   ],
   "source": [
    "lbp_train = data_formatter_train.compute_landmarks()\n",
    "lbp_test = data_formatter_test.compute_landmarks()"
   ]
  },
  {
   "cell_type": "markdown",
   "metadata": {},
   "source": [
    "### Model (SVM) \n",
    "Nous alllons utiliser un modèle SVM pour classifier nos données.\n",
    "Voici les valeurs des hyperparametres que nous avons choisi:\n",
    "We use a Support Vector Machine (SVM) model to classify the images. This model is a linear classifier which design the hyperplan with the best margins to split the data.\n",
    "- Epochs:1000 It define the maximum number of iterations that the model compute\n",
    "- Kernel function: Radial Basis Function (rbf)\n",
    "$K(x_1,x_2)=exp(-\\gamma||x_1-x_2||^2)$\n",
    "- Gamma:\"scale\" that means $\\gamma=\\frac{1}{n\\_features \\times X.var}$\n",
    "\n",
    "- Decision function: ovr which means 'one versus rest'. \n",
    "Each class is  against all the other classes independently. The model create a classifier for each situation. The model creates a binary label for whether a point is in a class or not.\n",
    "\n",
    "\n"
   ]
  },
  {
   "cell_type": "code",
   "execution_count": 13,
   "metadata": {},
   "outputs": [],
   "source": [
    "hyperparameters = dict({'random_state' : None,\n",
    "                        'epochs':10000,\n",
    "                        'kernel':'rbf',\n",
    "                        'decision_function':'ovr',\n",
    "                        'gamma':'scale'\n",
    "                       })"
   ]
  },
  {
   "cell_type": "markdown",
   "metadata": {},
   "source": [
    "# Evalution   \n",
    "\n",
    "### F_1 score\n",
    "To score our model, we will use the $f_1$ score.  \n",
    "${\\displaystyle f_{1_{i}}=\\left({\\frac {2}{\\mathrm {recall} ^{-1}+\\mathrm {precision} ^{-1}}}\\right)=2\\cdot {\\frac {\\mathrm {precision} \\cdot \\mathrm {recall} }{\\mathrm {precision} +\\mathrm {recall} }}}$   \n",
    "This function compute the score for the $categorie_i$ \n",
    "Here we have more than two categories so we will use the mean $f_1$ score to compute our final score : \n",
    "$ F_1 = \\frac{1}{n} \\sum_{i}^{n} f_{1_i}$  \n",
    "\n",
    "### Confusion matrix\n",
    "\n",
    "<img src=\"confusion_matrix.png\" alt=\"Drawing\" style=\"width: 300px;\" />\n",
    "\n",
    "\n",
    "This matrix shows the number of good prediction, number of false positive and number of false negative per class"
   ]
  },
  {
   "cell_type": "markdown",
   "metadata": {},
   "source": [
    "### SVM on HoG features"
   ]
  },
  {
   "cell_type": "code",
   "execution_count": 14,
   "metadata": {},
   "outputs": [
    {
     "name": "stdout",
     "output_type": "stream",
     "text": [
      "(12030, 800)\n",
      "Training time: 140.27926802635193 seconds\n",
      "score for 3 categories using HoG features :  0.6810473815461346\n"
     ]
    }
   ],
   "source": [
    "model = Model(model_type ='SVM',hyperparameters= hyperparameters, predictors = 'hog_features', targets=[0,3,4])\n",
    "model.create_model()\n",
    "debut=time()\n",
    "model.train(data_formatter_train.data.dropna())\n",
    "print(\"Training time:\",time()-debut,\"seconds\")\n",
    "print('score for 3 categories using HoG features : ', model.test(data_formatter_test.data.dropna()))"
   ]
  },
  {
   "cell_type": "code",
   "execution_count": 15,
   "metadata": {},
   "outputs": [
    {
     "name": "stdout",
     "output_type": "stream",
     "text": [
      "F1 score: 0.6460662645927512\n"
     ]
    }
   ],
   "source": [
    "print(\"F1 score:\",model.getF1Score(data_formatter_test.data.dropna()))"
   ]
  },
  {
   "cell_type": "markdown",
   "metadata": {},
   "source": [
    "Confusion matrix :"
   ]
  },
  {
   "cell_type": "code",
   "execution_count": 16,
   "metadata": {},
   "outputs": [
    {
     "data": {
      "text/html": [
       "<div>\n",
       "<style scoped>\n",
       "    .dataframe tbody tr th:only-of-type {\n",
       "        vertical-align: middle;\n",
       "    }\n",
       "\n",
       "    .dataframe tbody tr th {\n",
       "        vertical-align: top;\n",
       "    }\n",
       "\n",
       "    .dataframe thead th {\n",
       "        text-align: right;\n",
       "    }\n",
       "</style>\n",
       "<table border=\"1\" class=\"dataframe\">\n",
       "  <thead>\n",
       "    <tr style=\"text-align: right;\">\n",
       "      <th></th>\n",
       "      <th>Angry</th>\n",
       "      <th>Happy</th>\n",
       "      <th>Sad</th>\n",
       "    </tr>\n",
       "  </thead>\n",
       "  <tbody>\n",
       "    <tr>\n",
       "      <th>Angry</th>\n",
       "      <td>457</td>\n",
       "      <td>236</td>\n",
       "      <td>288</td>\n",
       "    </tr>\n",
       "    <tr>\n",
       "      <th>Happy</th>\n",
       "      <td>95</td>\n",
       "      <td>1521</td>\n",
       "      <td>222</td>\n",
       "    </tr>\n",
       "    <tr>\n",
       "      <th>Sad</th>\n",
       "      <td>167</td>\n",
       "      <td>271</td>\n",
       "      <td>753</td>\n",
       "    </tr>\n",
       "  </tbody>\n",
       "</table>\n",
       "</div>"
      ],
      "text/plain": [
       "       Angry  Happy  Sad\n",
       "Angry    457    236  288\n",
       "Happy     95   1521  222\n",
       "Sad      167    271  753"
      ]
     },
     "execution_count": 16,
     "metadata": {},
     "output_type": "execute_result"
    }
   ],
   "source": [
    "model.get_confusion_matrix(data_formatter_test.data.dropna())"
   ]
  },
  {
   "cell_type": "code",
   "execution_count": null,
   "metadata": {},
   "outputs": [],
   "source": []
  },
  {
   "cell_type": "markdown",
   "metadata": {},
   "source": [
    "### SVM on lbp features"
   ]
  },
  {
   "cell_type": "code",
   "execution_count": 17,
   "metadata": {},
   "outputs": [
    {
     "name": "stdout",
     "output_type": "stream",
     "text": [
      "(12030, 2295)\n",
      "Training time: 372.0036120414734 seconds\n",
      "score for 3 categories using lbp features :  0.6349127182044888\n"
     ]
    }
   ],
   "source": [
    "model = Model(model_type ='SVM',hyperparameters= hyperparameters, predictors = 'lbp', targets=[0,3,4])\n",
    "model.create_model()\n",
    "debut=time()\n",
    "model.train(data_formatter_train.data)\n",
    "print(\"Training time:\",time()-debut,\"seconds\")\n",
    "print('score for 3 categories using lbp features : ', model.test(data_formatter_test.data.dropna()))\n"
   ]
  },
  {
   "cell_type": "code",
   "execution_count": 18,
   "metadata": {},
   "outputs": [
    {
     "name": "stdout",
     "output_type": "stream",
     "text": [
      "F1 score: 0.5920415145396137\n"
     ]
    }
   ],
   "source": [
    "print(\"F1 score:\",model.getF1Score(data_formatter_test.data.dropna()))"
   ]
  },
  {
   "cell_type": "markdown",
   "metadata": {},
   "source": [
    "Confusion matrix :"
   ]
  },
  {
   "cell_type": "code",
   "execution_count": 19,
   "metadata": {},
   "outputs": [
    {
     "data": {
      "text/html": [
       "<div>\n",
       "<style scoped>\n",
       "    .dataframe tbody tr th:only-of-type {\n",
       "        vertical-align: middle;\n",
       "    }\n",
       "\n",
       "    .dataframe tbody tr th {\n",
       "        vertical-align: top;\n",
       "    }\n",
       "\n",
       "    .dataframe thead th {\n",
       "        text-align: right;\n",
       "    }\n",
       "</style>\n",
       "<table border=\"1\" class=\"dataframe\">\n",
       "  <thead>\n",
       "    <tr style=\"text-align: right;\">\n",
       "      <th></th>\n",
       "      <th>Angry</th>\n",
       "      <th>Happy</th>\n",
       "      <th>Sad</th>\n",
       "    </tr>\n",
       "  </thead>\n",
       "  <tbody>\n",
       "    <tr>\n",
       "      <th>Angry</th>\n",
       "      <td>373</td>\n",
       "      <td>289</td>\n",
       "      <td>319</td>\n",
       "    </tr>\n",
       "    <tr>\n",
       "      <th>Happy</th>\n",
       "      <td>120</td>\n",
       "      <td>1467</td>\n",
       "      <td>251</td>\n",
       "    </tr>\n",
       "    <tr>\n",
       "      <th>Sad</th>\n",
       "      <td>177</td>\n",
       "      <td>308</td>\n",
       "      <td>706</td>\n",
       "    </tr>\n",
       "  </tbody>\n",
       "</table>\n",
       "</div>"
      ],
      "text/plain": [
       "       Angry  Happy  Sad\n",
       "Angry    373    289  319\n",
       "Happy    120   1467  251\n",
       "Sad      177    308  706"
      ]
     },
     "execution_count": 19,
     "metadata": {},
     "output_type": "execute_result"
    }
   ],
   "source": [
    "model.get_confusion_matrix(data_formatter_test.data.dropna())"
   ]
  },
  {
   "cell_type": "markdown",
   "metadata": {},
   "source": [
    "### SVM on landmarks features"
   ]
  },
  {
   "cell_type": "code",
   "execution_count": 20,
   "metadata": {},
   "outputs": [
    {
     "name": "stdout",
     "output_type": "stream",
     "text": [
      "(12030, 136)\n",
      "Training time: 39.353312969207764 seconds\n",
      "score for 3 categories using landmarks features :  0.6648379052369078\n"
     ]
    }
   ],
   "source": [
    "model = Model(model_type ='SVM',hyperparameters= hyperparameters, predictors = 'landmark', targets=[0,3,4])\n",
    "model.create_model()\n",
    "debut=time()\n",
    "model.train(data_formatter_train.data)\n",
    "print(\"Training time:\",time()-debut,\"seconds\")\n",
    "print('score for 3 categories using landmarks features : ', model.test(data_formatter_test.data.dropna()))\n"
   ]
  },
  {
   "cell_type": "code",
   "execution_count": 21,
   "metadata": {},
   "outputs": [
    {
     "name": "stdout",
     "output_type": "stream",
     "text": [
      "F1 score: 0.6165972762902588\n"
     ]
    }
   ],
   "source": [
    "print(\"F1 score:\",model.getF1Score(data_formatter_test.data.dropna()))"
   ]
  },
  {
   "cell_type": "markdown",
   "metadata": {},
   "source": [
    "Confusion matrix :"
   ]
  },
  {
   "cell_type": "code",
   "execution_count": 22,
   "metadata": {},
   "outputs": [
    {
     "data": {
      "text/html": [
       "<div>\n",
       "<style scoped>\n",
       "    .dataframe tbody tr th:only-of-type {\n",
       "        vertical-align: middle;\n",
       "    }\n",
       "\n",
       "    .dataframe tbody tr th {\n",
       "        vertical-align: top;\n",
       "    }\n",
       "\n",
       "    .dataframe thead th {\n",
       "        text-align: right;\n",
       "    }\n",
       "</style>\n",
       "<table border=\"1\" class=\"dataframe\">\n",
       "  <thead>\n",
       "    <tr style=\"text-align: right;\">\n",
       "      <th></th>\n",
       "      <th>Angry</th>\n",
       "      <th>Happy</th>\n",
       "      <th>Sad</th>\n",
       "    </tr>\n",
       "  </thead>\n",
       "  <tbody>\n",
       "    <tr>\n",
       "      <th>Angry</th>\n",
       "      <td>340</td>\n",
       "      <td>240</td>\n",
       "      <td>401</td>\n",
       "    </tr>\n",
       "    <tr>\n",
       "      <th>Happy</th>\n",
       "      <td>74</td>\n",
       "      <td>1499</td>\n",
       "      <td>265</td>\n",
       "    </tr>\n",
       "    <tr>\n",
       "      <th>Sad</th>\n",
       "      <td>119</td>\n",
       "      <td>245</td>\n",
       "      <td>827</td>\n",
       "    </tr>\n",
       "  </tbody>\n",
       "</table>\n",
       "</div>"
      ],
      "text/plain": [
       "       Angry  Happy  Sad\n",
       "Angry    340    240  401\n",
       "Happy     74   1499  265\n",
       "Sad      119    245  827"
      ]
     },
     "execution_count": 22,
     "metadata": {},
     "output_type": "execute_result"
    }
   ],
   "source": [
    "model.get_confusion_matrix(data_formatter_test.data.dropna())"
   ]
  },
  {
   "cell_type": "markdown",
   "metadata": {},
   "source": [
    "### SVM on hog and lbp features"
   ]
  },
  {
   "cell_type": "code",
   "execution_count": 23,
   "metadata": {},
   "outputs": [
    {
     "name": "stdout",
     "output_type": "stream",
     "text": [
      "(12030, 3095)\n",
      "Training time: 578.8395490646362 seconds\n",
      "score for 3 categories using hog and lbp features :  0.6807980049875312\n"
     ]
    }
   ],
   "source": [
    "model = Model(model_type ='SVM',hyperparameters= hyperparameters, predictors = 'hog_and_lbp', targets=[0,3,4])\n",
    "model.create_model()\n",
    "debut=time()\n",
    "model.train(data_formatter_train.data)\n",
    "print(\"Training time:\",time()-debut,\"seconds\")\n",
    "print('score for 3 categories using hog and lbp features : ', model.test(data_formatter_test.data.dropna()))\n"
   ]
  },
  {
   "cell_type": "code",
   "execution_count": 24,
   "metadata": {},
   "outputs": [
    {
     "name": "stdout",
     "output_type": "stream",
     "text": [
      "F1 score: 0.6464236122774808\n"
     ]
    }
   ],
   "source": [
    "print(\"F1 score:\",model.getF1Score(data_formatter_test.data.dropna()))"
   ]
  },
  {
   "cell_type": "markdown",
   "metadata": {},
   "source": [
    "Confusion matrix :"
   ]
  },
  {
   "cell_type": "code",
   "execution_count": 25,
   "metadata": {},
   "outputs": [
    {
     "data": {
      "text/html": [
       "<div>\n",
       "<style scoped>\n",
       "    .dataframe tbody tr th:only-of-type {\n",
       "        vertical-align: middle;\n",
       "    }\n",
       "\n",
       "    .dataframe tbody tr th {\n",
       "        vertical-align: top;\n",
       "    }\n",
       "\n",
       "    .dataframe thead th {\n",
       "        text-align: right;\n",
       "    }\n",
       "</style>\n",
       "<table border=\"1\" class=\"dataframe\">\n",
       "  <thead>\n",
       "    <tr style=\"text-align: right;\">\n",
       "      <th></th>\n",
       "      <th>Angry</th>\n",
       "      <th>Happy</th>\n",
       "      <th>Sad</th>\n",
       "    </tr>\n",
       "  </thead>\n",
       "  <tbody>\n",
       "    <tr>\n",
       "      <th>Angry</th>\n",
       "      <td>464</td>\n",
       "      <td>229</td>\n",
       "      <td>288</td>\n",
       "    </tr>\n",
       "    <tr>\n",
       "      <th>Happy</th>\n",
       "      <td>96</td>\n",
       "      <td>1512</td>\n",
       "      <td>230</td>\n",
       "    </tr>\n",
       "    <tr>\n",
       "      <th>Sad</th>\n",
       "      <td>185</td>\n",
       "      <td>252</td>\n",
       "      <td>754</td>\n",
       "    </tr>\n",
       "  </tbody>\n",
       "</table>\n",
       "</div>"
      ],
      "text/plain": [
       "       Angry  Happy  Sad\n",
       "Angry    464    229  288\n",
       "Happy     96   1512  230\n",
       "Sad      185    252  754"
      ]
     },
     "execution_count": 25,
     "metadata": {},
     "output_type": "execute_result"
    }
   ],
   "source": [
    "model.get_confusion_matrix(data_formatter_test.data.dropna())"
   ]
  },
  {
   "cell_type": "markdown",
   "metadata": {},
   "source": [
    "# Conclusions"
   ]
  },
  {
   "cell_type": "markdown",
   "metadata": {},
   "source": [
    "To conclude we observe that the model with the best accuracy and F1 score is the model with HOG and LBP features The accuracy reachs 0.68 and the F1 score 0.646. \n",
    "However this result is taking more time to obtain. For the model with the HOG features the training time is 159s and 150s when we add the LBP features. For the model with the landmarks features it just takes 29s to train the model.\n",
    "This training time is linked to the number of feature. There are 800 HOG features that's why the training time is so long. On the contrary it just takes 29s to train because the model has just 136 features (2 coordinates for each landmark).\n",
    "Finnaly we observe that all these results are less impressive than the results which a deep learning model can reach, but the training time with a deep learning model is much more important than the one we get."
   ]
  },
  {
   "cell_type": "markdown",
   "metadata": {},
   "source": [
    "# References\n",
    "[1] Christopher Pramerdorfer, Martin Kampel. \"Facial Expression Recognition using Convolutional Neural Networks: State of the Art\".  \n",
    "[2] Facial expression recognition based on Local Binary Patterns: A comprehensive study Caifeng Shan, Shaogang Gong, Peter W. McOwan "
   ]
  },
  {
   "cell_type": "code",
   "execution_count": 1,
   "metadata": {},
   "outputs": [
    {
     "ename": "NameError",
     "evalue": "name 'data_formatter_test' is not defined",
     "output_type": "error",
     "traceback": [
      "\u001b[0;31m---------------------------------------------------------------------------\u001b[0m",
      "\u001b[0;31mNameError\u001b[0m                                 Traceback (most recent call last)",
      "\u001b[0;32m<ipython-input-1-14be29d9640f>\u001b[0m in \u001b[0;36m<module>\u001b[0;34m\u001b[0m\n\u001b[0;32m----> 1\u001b[0;31m \u001b[0mx\u001b[0m \u001b[0;34m=\u001b[0m\u001b[0mdata_formatter_test\u001b[0m\u001b[0;34m.\u001b[0m\u001b[0mdata\u001b[0m\u001b[0;34m.\u001b[0m\u001b[0mlandmarks\u001b[0m\u001b[0;34m.\u001b[0m\u001b[0mvalues\u001b[0m\u001b[0;34m[\u001b[0m\u001b[0;36m7\u001b[0m\u001b[0;34m]\u001b[0m\u001b[0;34m\u001b[0m\u001b[0;34m\u001b[0m\u001b[0m\n\u001b[0m\u001b[1;32m      2\u001b[0m \u001b[0;31m#plt.scatter(x[:,0], x[:,1])\u001b[0m\u001b[0;34m\u001b[0m\u001b[0;34m\u001b[0m\u001b[0;34m\u001b[0m\u001b[0m\n\u001b[1;32m      3\u001b[0m \u001b[0mplt\u001b[0m\u001b[0;34m.\u001b[0m\u001b[0mscatter\u001b[0m\u001b[0;34m(\u001b[0m\u001b[0mnp\u001b[0m\u001b[0;34m.\u001b[0m\u001b[0marray\u001b[0m\u001b[0;34m(\u001b[0m\u001b[0mx\u001b[0m\u001b[0;34m[\u001b[0m\u001b[0;34m:\u001b[0m\u001b[0;34m,\u001b[0m\u001b[0;36m0\u001b[0m\u001b[0;34m]\u001b[0m\u001b[0;34m)\u001b[0m\u001b[0;34m,\u001b[0m\u001b[0mnp\u001b[0m\u001b[0;34m.\u001b[0m\u001b[0marray\u001b[0m\u001b[0;34m(\u001b[0m\u001b[0mx\u001b[0m\u001b[0;34m[\u001b[0m\u001b[0;34m:\u001b[0m\u001b[0;34m,\u001b[0m\u001b[0;36m1\u001b[0m\u001b[0;34m]\u001b[0m\u001b[0;34m)\u001b[0m\u001b[0;34m)\u001b[0m\u001b[0;34m\u001b[0m\u001b[0;34m\u001b[0m\u001b[0m\n\u001b[1;32m      4\u001b[0m \u001b[0mplt\u001b[0m\u001b[0;34m.\u001b[0m\u001b[0mimshow\u001b[0m\u001b[0;34m(\u001b[0m\u001b[0mget_image\u001b[0m\u001b[0;34m(\u001b[0m\u001b[0;36m7\u001b[0m\u001b[0;34m)\u001b[0m\u001b[0;34m,\u001b[0m \u001b[0mcmap\u001b[0m\u001b[0;34m=\u001b[0m \u001b[0;34m'gray'\u001b[0m\u001b[0;34m)\u001b[0m\u001b[0;34m\u001b[0m\u001b[0;34m\u001b[0m\u001b[0m\n",
      "\u001b[0;31mNameError\u001b[0m: name 'data_formatter_test' is not defined"
     ]
    }
   ],
   "source": [
    "x =data_formatter_test.data.landmarks.values[7] \n",
    "#plt.scatter(x[:,0], x[:,1])\n",
    "plt.scatter(np.array(x[:,0]),np.array(x[:,1]))\n",
    "plt.imshow(get_image(7), cmap= 'gray')"
   ]
  },
  {
   "cell_type": "code",
   "execution_count": null,
   "metadata": {},
   "outputs": [],
   "source": []
  }
 ],
 "metadata": {
  "kernelspec": {
   "display_name": "Python 3",
   "language": "python",
   "name": "python3"
  },
  "language_info": {
   "codemirror_mode": {
    "name": "ipython",
    "version": 3
   },
   "file_extension": ".py",
   "mimetype": "text/x-python",
   "name": "python",
   "nbconvert_exporter": "python",
   "pygments_lexer": "ipython3",
   "version": "3.7.3"
  }
 },
 "nbformat": 4,
 "nbformat_minor": 2
}
