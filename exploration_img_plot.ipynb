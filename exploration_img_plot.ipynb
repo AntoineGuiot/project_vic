{
 "cells": [
  {
   "cell_type": "code",
   "execution_count": 25,
   "metadata": {},
   "outputs": [
    {
     "name": "stdout",
     "output_type": "stream",
     "text": [
      "The autoreload extension is already loaded. To reload it, use:\n",
      "  %reload_ext autoreload\n"
     ]
    }
   ],
   "source": [
    "import matplotlib.pyplot as plt\n",
    "import numpy as np\n",
    "import pandas as pd\n",
    "import matplotlib.pyplot as plt\n",
    "import matplotlib.image as mpimg\n",
    "import cv2\n",
    "from data_preprocess import dataFormatter\n",
    "from skimage import data, exposure\n",
    "from model import Model\n",
    "import copy\n",
    "from sklearn.model_selection import train_test_split\n",
    "%load_ext autoreload\n",
    "%autoreload 2\n",
    "import dlib\n",
    "from time import time"
   ]
  },
  {
   "cell_type": "markdown",
   "metadata": {},
   "source": [
    "# Project : O.Frelot A.Guiot"
   ]
  },
  {
   "cell_type": "code",
   "execution_count": 38,
   "metadata": {},
   "outputs": [],
   "source": [
    "csv  = pd.read_csv('../challenges-in-representation-learning-facial-expression-recognition-challenge/train.csv')\n",
    "# we filter our data set and only keep images 'happy', 'sad', 'angry'\n",
    "csv = csv[(csv.emotion ==0) | (csv.emotion==3) | (csv.emotion==4)]\n",
    "data = copy.deepcopy(csv)"
   ]
  },
  {
   "cell_type": "code",
   "execution_count": 3,
   "metadata": {},
   "outputs": [],
   "source": [
    "emotions_mapping = dict({0:'Angry', 1:'Disgust', 2:'Fear', 3:'Happy', 4:'Sad', 5:'Surprise', 6:'Neutral'})"
   ]
  },
  {
   "cell_type": "code",
   "execution_count": 4,
   "metadata": {},
   "outputs": [],
   "source": [
    "def get_image(index):\n",
    "    img = np.array([int(i) for i in data.pixels.values[index].split()]).reshape((48,48))\n",
    "    return img\n",
    "\n",
    "def plot_image(index= 10):\n",
    "    plt.figure(figsize=(8,6))\n",
    "    img = get_image(index)\n",
    "    plt.imshow(img, cmap='gray')\n",
    "    plt.title(emotions_mapping[data.emotion.values[index]])"
   ]
  },
  {
   "cell_type": "code",
   "execution_count": 5,
   "metadata": {},
   "outputs": [],
   "source": [
    "data_train, data_test = train_test_split(csv)\n",
    "\n",
    "data_formatter_train = dataFormatter(data_train)\n",
    "data_formatter_test = dataFormatter(data_test)"
   ]
  },
  {
   "cell_type": "markdown",
   "metadata": {},
   "source": [
    "# Abstract\n",
    "In this project, we will focus on an image classification problem. Our dataset contains a huge number of labelled images representing human faces with different face expression ('Angry', 'Disgust', 'Fear', 'Happy', 'Sad', 'Surprise', 'Neutral'). The idea is to classify these images into these 7 categories. The state of the art of this problem has been done using a deep learning approach in [1] which obtains 75% of accuracy, a Convolutional Neural Network was used during several hours on GPU to obtain these results. Here we want to approach this problem with a much simpler algorithm. Our idea is to try two different approaches : \n",
    "- Using HoG features \n",
    "- Using faces landmarks features \n",
    "- Both  \n",
    "\n",
    "Moreover to simplify the problem we will reduce the number of categories (we will keep: \"Angry\", \"Happy\" and \"Sad\").\n",
    "At first, we will start with 3 categories and then move to 7 categories to see the impact on our accuracy. In the end, we succeeded to obtain a score of around XX % (for 3 categories) which is far from the state of the art. But not to bad against the random prediction (0.33)."
   ]
  },
  {
   "cell_type": "markdown",
   "metadata": {},
   "source": [
    "# Introduction  \n",
    "As we know, deep learning approach is the state of the art of visual computing problems. For this case, the best score has been obtained using a convolutional neural network in [1].  \n",
    "Here we would like to try a much simpler approach using HoG features.  \n",
    "The main idea of our idea is to see if a simple algorithm can provide a good performance. Indeed, a neural netwok can be very long to train (several hours on multi GPU for the face expression problem). Here we will try to classify our images using a simple support verctor machine (SVM) algorithm. The training time for this type of algorithm is very face (around 1 minute).  This might be usefull if we want to train a model on a huge amount ouf data or on a dataset of high quality images"
   ]
  },
  {
   "cell_type": "markdown",
   "metadata": {},
   "source": [
    "# Problem Definition\n",
    "### Data set description  \n",
    "Our data set contains 16040 images of labeled data. Each image is described with 48x48 pixels (2304 pixels).  "
   ]
  },
  {
   "cell_type": "code",
   "execution_count": 6,
   "metadata": {},
   "outputs": [
    {
     "data": {
      "image/png": "[encoded data removed]",
      "text/plain": [
       "<Figure size 576x432 with 1 Axes>"
      ]
     },
     "metadata": {
      "needs_background": "light"
     },
     "output_type": "display_data"
    }
   ],
   "source": [
    "plot_image(7)"
   ]
  },
  {
   "cell_type": "markdown",
   "metadata": {},
   "source": [
    "The distribution of the categories is as follows : "
   ]
  },
  {
   "cell_type": "code",
   "execution_count": 7,
   "metadata": {},
   "outputs": [
    {
     "name": "stdout",
     "output_type": "stream",
     "text": [
      "Happy    0.449813\n",
      "Sad      0.301122\n",
      "Angry    0.249065\n",
      "Name: emotion, dtype: float64\n"
     ]
    }
   ],
   "source": [
    "emotions_mapping\n",
    "repartition = csv.emotion.value_counts(True)\n",
    "repartition.index = repartition.index.map(emotions_mapping)\n",
    "print(repartition)"
   ]
  },
  {
   "cell_type": "markdown",
   "metadata": {},
   "source": [
    "The data set is unbalenced (all categories doesn't contain the same number of image) "
   ]
  },
  {
   "cell_type": "markdown",
   "metadata": {},
   "source": [
    "# Methodology"
   ]
  },
  {
   "cell_type": "markdown",
   "metadata": {},
   "source": [
    "### HoG features  \n",
    "Here we will explain how to describe an image using HoG features :  \n",
    "This could be done in several steps :   \n",
    "- Calculate the Gradient Images   \n",
    "\n",
    "At first we compute the gradient $g_x $ and $g_y$  \n",
    "then :   \n",
    "$ g= \\sqrt{g_x + g_y} $  \n",
    "$ \\theta = arctan(\\frac{g_y}{g_x}) $ \n",
    "\n",
    "- Calculate Histogram of Gradients in 4×4 cells  \n",
    "\n",
    "In this step, the image is divided into cells each cells contains 4x4 pixels and a histogram of gradients is calculated for each cell. The histogram contains 9 (as recommended in the original paper) bins corresponding to angles 0, 20, 40 … 160. \n",
    "\n",
    "- Normalization  \n",
    "\n",
    "The next step of the process in to normalise each gradient histogram. Indeed some part of the image might have a bigger brigtness than others. This could lead to a difference in gradient histograms. \n",
    "\n",
    "The idea is to normalize each histogram  over a bigger sized block of 8×8. A 8×8 block has 4 histograms which can be concatenated into one vector and can be normalized. Then we can move this 8x8 block by 4 pixel and then recompute the normalization in the block.\n"
   ]
  },
  {
   "cell_type": "code",
   "execution_count": 10,
   "metadata": {},
   "outputs": [
    {
     "name": "stderr",
     "output_type": "stream",
     "text": [
      "C:\\Users\\oscar\\Documents\\cours supelec\\3a\\VIC\\Projet\\projet3\\project_vic\\data_preprocess.py:35: SettingWithCopyWarning: \n",
      "A value is trying to be set on a copy of a slice from a DataFrame.\n",
      "Try using .loc[row_indexer,col_indexer] = value instead\n",
      "\n",
      "See the caveats in the documentation: http://pandas.pydata.org/pandas-docs/stable/user_guide/indexing.html#returning-a-view-versus-a-copy\n",
      "  self.data['hog_features'] = hog_features\n"
     ]
    }
   ],
   "source": [
    "hog_image_train = data_formatter_train.compute_hog()\n",
    "hog_image_test = data_formatter_test.compute_hog()"
   ]
  },
  {
   "cell_type": "code",
   "execution_count": 15,
   "metadata": {},
   "outputs": [
    {
     "data": {
      "image/png": "[encoded data removed]",
      "text/plain": [
       "<Figure size 576x288 with 2 Axes>"
      ]
     },
     "metadata": {
      "needs_background": "light"
     },
     "output_type": "display_data"
    }
   ],
   "source": [
    "index = 1\n",
    "\n",
    "hog_image_rescaled = exposure.rescale_intensity(hog_image_train[index], in_range=(0, 10))\n",
    "img = get_image(index)\n",
    "\n",
    "fig, (ax1, ax2) = plt.subplots(1, 2, figsize=(8, 4), sharex=True, sharey=True)\n",
    "ax1.set_title(emotions_mapping[csv.emotion.values[index]])\n",
    "ax1.axis('off')\n",
    "ax1.imshow(img, cmap=plt.cm.gray)\n",
    "\n",
    "# Rescale histogram for better display\n",
    "\n",
    "ax2.axis('off')\n",
    "ax2.imshow(hog_image_rescaled, cmap=plt.cm.gray)\n",
    "ax2.set_title('Histogram of Oriented Gradients')\n",
    "plt.show()"
   ]
  },
  {
   "cell_type": "markdown",
   "metadata": {},
   "source": [
    "### lbp features  \n",
    "Here we will explain how to describe an image using local_binary_pattern (lbp)   \n",
    "\n",
    "\n",
    "LBP was first described in 1994. It has since been found to be a powerful feature for texture classification; it has further been determined that when LBP is combined with the Histogram of oriented gradients (HOG) descriptor, it improves the detection performance considerably on some datasets.  \n",
    "\n",
    "The LBP feature vector, in its simplest form, is created in the following manner:\n",
    "\n",
    "- Divide the examined window into cells (e.g. 16x16 pixels for each cell) (for a 48x48 it will split the image into 9 parts) \n",
    "- For each pixel in a cell, compare the pixel to each of its 8 neighbors (on its left-top, left-middle, left-bottom, right-top, etc.). Follow the pixels along a circle, i.e. clockwise or counter-clockwise.\n",
    "- Where the center pixel's value is greater than the neighbor's value, write \"0\". Otherwise, write \"1\". This gives an 8-digit binary number (which is usually converted to decimal for convenience).\n",
    "- Compute the histogram, over the cell, of the frequency of each \"number\" occurring (i.e., each combination of which pixels are smaller and which are greater than the center). Here we will create an histogram containing only 10 bins (in order to reduce the dimension) \n",
    "- Concatenate histograms of all cells. This gives a feature vector for the entire window.  \n",
    "\n",
    "We will implement the methods explained in the article from Caifeng Shan, Shaogang Gong and Peter W. McOwan [2] \n"
   ]
  },
  {
   "cell_type": "code",
   "execution_count": 18,
   "metadata": {},
   "outputs": [],
   "source": [
    "lbp_train = data_formatter_train.compute_lbp()\n",
    "lbp_test = data_formatter_test.compute_lbp()"
   ]
  },
  {
   "cell_type": "markdown",
   "metadata": {},
   "source": [
    "### Landmarks features  #TODO\n",
    "Facial landmarks are used to localize and represent salient regions of the face, such as:  \n",
    "\n",
    "- Eyes\n",
    "- Eyebrows\n",
    "- Nose\n",
    "- Mouth\n",
    "- Jawline  \n",
    "\n",
    "Facial landmarks have been successfully applied to face alignment, head pose estimation, face swapping, blink detection and much more.  \n",
    "\n",
    "Detecting facial landmarks is a subset of the shape prediction problem. Given an input image, a shape predictor attempts to localize key points of interest along the shape.\n",
    "\n",
    "In the context of facial landmarks, our goal is detect important facial structures on the face using shape prediction methods.\n",
    "\n",
    "Detecting facial landmarks is therefore a two step process:\n",
    "\n",
    "- Step 1 : Localize the face in the image.  \n",
    "- Step 2: Detect the key facial structures on the face ROI.\n",
    "\n",
    "In our case : on each image we only have one face. Therefore we don't need the first step. We will just give all the image as the face to the step 2.\n",
    "We will use the facial landmarks detector of the library dlib. This detector is the implementation of the paper of Kazemi and Sullivan (2014) [2].\n",
    "This method is based on 2 points:\n",
    " - A set of facial landmarks labeled on an image. These images are labelled manually. 68 points surrounding the face are defined.\n",
    " - The probability of the distance between two input pixels.\n",
    " \n",
    "Given this two points a model is learned to detect the facial landmark an image. There is no feature extraction, the model is only basz=ed on the pixel intensity. That's why it is very quick.\n",
    "\n",
    "In this project we will work with the dlib landmarks predicator. It computes the coordinates of 68 landmarks on each face. It also exists others predicators using more points."
   ]
  },
  {
   "cell_type": "code",
   "execution_count": 31,
   "metadata": {},
   "outputs": [],
   "source": [
    "lbp_train = data_formatter_train.compute_landmarks()\n",
    "lbp_test = data_formatter_test.compute_landmarks()"
   ]
  },
  {
   "cell_type": "markdown",
   "metadata": {},
   "source": [
    "### Model (SVM) \n",
    "Nous alllons utiliser un modèle SVM pour classifier nos données.\n",
    "Voici les valeurs des hyperparametres que nous avons choisi:\n",
    "We use a Support Vector Machine (SVM) model to classify the images. This model is a linear classifier which design the hyperplan with the best margins to split the data.\n",
    "- Epochs:1000 It define the maximum number of iterations that the model compute\n",
    "- Kernel function: Radial Basis Function (rbf)\n",
    "$K(x_1,x_2)=exp(-\\gamma||x_1-x_2||^2)$\n",
    "- Gamma:\"scale\" that means $\\gamma=\\frac{1}{n\\_features \\times X.var}$\n",
    "\n",
    "- Decision function: ovr which means 'one versus rest'. \n",
    "Each class is  against all the other classes independently. The model create a classifier for each situation. The model creates a binary label for whether a point is in a class or not.\n",
    "\n",
    "\n"
   ]
  },
  {
   "cell_type": "code",
   "execution_count": 17,
   "metadata": {},
   "outputs": [],
   "source": [
    "hyperparameters = dict({'random_state' : None,\n",
    "                        'epochs':10000,\n",
    "                        'kernel':'rbf',\n",
    "                        'decision_function':'ovr',\n",
    "                        'gamma':'scale'\n",
    "                       })"
   ]
  },
  {
   "cell_type": "markdown",
   "metadata": {},
   "source": [
    "# Evalution   \n",
    "To score our model, we will use the $f_1$ score.  \n",
    "${\\displaystyle f_{1_{i}}=\\left({\\frac {2}{\\mathrm {recall} ^{-1}+\\mathrm {precision} ^{-1}}}\\right)=2\\cdot {\\frac {\\mathrm {precision} \\cdot \\mathrm {recall} }{\\mathrm {precision} +\\mathrm {recall} }}}$   \n",
    "This function compute the score for the $categorie_i$ \n",
    "Here we have more than two categories so we will use the mean $f_1$ score to compute our final score : \n",
    "$ F_1 = \\frac{1}{n} \\sum_{i}^{n} f_{1_i}$  "
   ]
  },
  {
   "cell_type": "markdown",
   "metadata": {},
   "source": [
    "### SVM on HoG features"
   ]
  },
  {
   "cell_type": "code",
   "execution_count": 22,
   "metadata": {},
   "outputs": [
    {
     "name": "stdout",
     "output_type": "stream",
     "text": [
      "(12003, 800)\n",
      "score for 3 categories using HoG features :  0.6769038701622971\n",
      "Training time: 159.42455196380615 seconds\n"
     ]
    }
   ],
   "source": [
    "model = Model(model_type ='SVM',hyperparameters= hyperparameters, predictors = 'hog_features', targets=[0,3,4])\n",
    "model.create_model()\n",
    "debut=time()\n",
    "model.train(data_formatter_train.data.dropna())\n",
    "print(\"Training time:\",time()-debut,\"seconds\")\n",
    "print('score for 3 categories using HoG features : ', model.test(data_formatter_test.data.dropna()))\n"
   ]
  },
  {
   "cell_type": "code",
   "execution_count": 26,
   "metadata": {},
   "outputs": [
    {
     "data": {
      "text/plain": [
       "0.6425845192078236"
      ]
     },
     "execution_count": 26,
     "metadata": {},
     "output_type": "execute_result"
    }
   ],
   "source": [
    "print(\"F1 score:\",model.getF1Score(data_formatter_test.data.dropna()))"
   ]
  },
  {
   "cell_type": "markdown",
   "metadata": {},
   "source": [
    "### SVM on lbp features"
   ]
  },
  {
   "cell_type": "code",
   "execution_count": 27,
   "metadata": {},
   "outputs": [
    {
     "name": "stdout",
     "output_type": "stream",
     "text": [
      "(12003, 225)\n",
      "Training time: 44.188788414001465 seconds\n",
      "score for 3 categories using lbp features :  0.5800249687890138\n"
     ]
    }
   ],
   "source": [
    "model = Model(model_type ='SVM',hyperparameters= hyperparameters, predictors = 'lbp', targets=[0,3,4])\n",
    "model.create_model()\n",
    "debut=time()\n",
    "model.train(data_formatter_train.data)\n",
    "print(\"Training time:\",time()-debut,\"seconds\")\n",
    "print('score for 3 categories using lbp features : ', model.test(data_formatter_test.data.dropna()))\n"
   ]
  },
  {
   "cell_type": "code",
   "execution_count": 28,
   "metadata": {},
   "outputs": [
    {
     "name": "stdout",
     "output_type": "stream",
     "text": [
      "F1 score: 0.5284423216783455\n"
     ]
    }
   ],
   "source": [
    "print(\"F1 score:\",model.getF1Score(data_formatter_test.data.dropna()))"
   ]
  },
  {
   "cell_type": "markdown",
   "metadata": {},
   "source": [
    "### SVM on landmarks features"
   ]
  },
  {
   "cell_type": "code",
   "execution_count": 32,
   "metadata": {},
   "outputs": [
    {
     "name": "stdout",
     "output_type": "stream",
     "text": [
      "(12003, 136)\n",
      "Training time: 28.8888840675354 seconds\n",
      "score for 3 categories using landmarks features :  0.6651685393258427\n"
     ]
    }
   ],
   "source": [
    "model = Model(model_type ='SVM',hyperparameters= hyperparameters, predictors = 'landmark', targets=[0,3,4])\n",
    "model.create_model()\n",
    "debut=time()\n",
    "model.train(data_formatter_train.data)\n",
    "print(\"Training time:\",time()-debut,\"seconds\")\n",
    "print('score for 3 categories using landmarks features : ', model.test(data_formatter_test.data.dropna()))\n"
   ]
  },
  {
   "cell_type": "code",
   "execution_count": 33,
   "metadata": {},
   "outputs": [
    {
     "name": "stdout",
     "output_type": "stream",
     "text": [
      "F1 score: 0.6181110255028589\n"
     ]
    }
   ],
   "source": [
    "print(\"F1 score:\",model.getF1Score(data_formatter_test.data.dropna()))"
   ]
  },
  {
   "cell_type": "markdown",
   "metadata": {},
   "source": [
    "### SVM on hog and lbp features"
   ]
  },
  {
   "cell_type": "code",
   "execution_count": 34,
   "metadata": {},
   "outputs": [
    {
     "name": "stdout",
     "output_type": "stream",
     "text": [
      "(12003, 1025)\n",
      "Training time: 150.44730520248413 seconds\n",
      "score for 3 categories using hog and lbp features :  0.6803995006242197\n"
     ]
    }
   ],
   "source": [
    "model = Model(model_type ='SVM',hyperparameters= hyperparameters, predictors = 'hog_and_lbp', targets=[0,3,4])\n",
    "model.create_model()\n",
    "debut=time()\n",
    "model.train(data_formatter_train.data)\n",
    "print(\"Training time:\",time()-debut,\"seconds\")\n",
    "print('score for 3 categories using hog and lbp features : ', model.test(data_formatter_test.data.dropna()))\n"
   ]
  },
  {
   "cell_type": "code",
   "execution_count": 35,
   "metadata": {},
   "outputs": [
    {
     "name": "stdout",
     "output_type": "stream",
     "text": [
      "F1 score: 0.6461257662839048\n"
     ]
    }
   ],
   "source": [
    "print(\"F1 score:\",model.getF1Score(data_formatter_test.data.dropna()))"
   ]
  },
  {
   "cell_type": "markdown",
   "metadata": {},
   "source": [
    "# Conclusions"
   ]
  },
  {
   "cell_type": "markdown",
   "metadata": {},
   "source": [
    "To conclude we observe that the model with the best accuracy and F1 score is the model with HOG and LBP features The accuracy reachs 0.68 and the F1 score 0.646. \n",
    "However this result is taking more time to obtain. For the model with the HOG features the training time is 159s and 150s when we add the LBP features. For the model with the landmarks features it just takes 29s to train the model.\n",
    "This training time is linked to the number of feature. There are 800 HOG features that's why the training time is so long. On the contrary it just takes 29s to train because the model has just 136 features (2 coordinates for each landmark).\n",
    "Finnaly we observe that all these results are less impressive than the results which a deep learning model can reach, but the training time with a deep learning model is much more important than the one we get."
   ]
  },
  {
   "cell_type": "code",
   "execution_count": 14,
   "metadata": {},
   "outputs": [],
   "source": [
    "csv  = pd.read_csv('../challenges-in-representation-learning-facial-expression-recognition-challenge/train.csv')\n",
    "# we filter our data set and only keep images 'happy', 'sad', 'angry'\n",
    "#csv = csv[(csv.emotion ==0) | (csv.emotion==3) | (csv.emotion==4)]\n",
    "data = copy.deepcopy(csv)"
   ]
  },
  {
   "cell_type": "code",
   "execution_count": 15,
   "metadata": {},
   "outputs": [],
   "source": [
    "emotions_mapping = dict({0:'Angry', 1:'Disgust', 2:'Fear', 3:'Happy', 4:'Sad', 5:'Surprise', 6:'Neutral'})"
   ]
  },
  {
   "cell_type": "code",
   "execution_count": 7,
   "metadata": {},
   "outputs": [],
   "source": [
    "def get_image(index):\n",
    "    img = np.array([int(i) for i in data.pixels.values[index].split()]).reshape((48,48))\n",
    "    return img\n",
    "\n",
    "    \n",
    "def plot_image(index= 10):\n",
    "    plt.figure(figsize=(8,6))\n",
    "    img = get_image(index)\n",
    "    plt.imshow(img, cmap='gray')\n",
    "    plt.title(emotions_mapping[data.emotion.values[index]])\n"
   ]
  },
  {
   "cell_type": "code",
   "execution_count": 9,
   "metadata": {},
   "outputs": [
    {
     "data": {
      "image/png": "[encoded data removed]",
      "text/plain": [
       "<Figure size 576x432 with 1 Axes>"
      ]
     },
     "metadata": {
      "needs_background": "light"
     },
     "output_type": "display_data"
    }
   ],
   "source": []
  },
  {
   "cell_type": "markdown",
   "metadata": {},
   "source": [
    "### Preprocess"
   ]
  },
  {
   "cell_type": "markdown",
   "metadata": {},
   "source": [
    "#### HoG features "
   ]
  },
  {
   "cell_type": "code",
   "execution_count": 9,
   "metadata": {},
   "outputs": [],
   "source": [
    "data_train, data_test = train_test_split(csv)\n",
    "\n",
    "data_formatter_train = dataFormatter(data_train)\n",
    "data_formatter_test = dataFormatter(data_test)"
   ]
  },
  {
   "cell_type": "code",
   "execution_count": 104,
   "metadata": {},
   "outputs": [
    {
     "name": "stderr",
     "output_type": "stream",
     "text": [
      "/anaconda3/lib/python3.7/site-packages/skimage/feature/_hog.py:150: skimage_deprecation: Default value of `block_norm`==`L1` is deprecated and will be changed to `L2-Hys` in v0.15. To supress this message specify explicitly the normalization method.\n",
      "  skimage_deprecation)\n",
      "/anaconda3/lib/python3.7/site-packages/skimage/feature/_hog.py:248: skimage_deprecation: Argument `visualise` is deprecated and will be changed to `visualize` in v0.16\n",
      "  'be changed to `visualize` in v0.16', skimage_deprecation)\n",
      "/Users/antoineguiot/Documents/OMA/VIC/project/project_vic/data_preprocess.py:34: SettingWithCopyWarning: \n",
      "A value is trying to be set on a copy of a slice from a DataFrame.\n",
      "Try using .loc[row_indexer,col_indexer] = value instead\n",
      "\n",
      "See the caveats in the documentation: http://pandas.pydata.org/pandas-docs/stable/user_guide/indexing.html#returning-a-view-versus-a-copy\n",
      "  self.data['hog_features'] = hog_features\n"
     ]
    }
   ],
   "source": [
    "hog_image_train = data_formatter_train.compute_hog()\n",
    "hog_image_test = data_formatter_test.compute_hog()"
   ]
  },
  {
   "cell_type": "code",
   "execution_count": 105,
   "metadata": {},
   "outputs": [
    {
     "name": "stderr",
     "output_type": "stream",
     "text": [
      "/Users/antoineguiot/Documents/OMA/VIC/project/project_vic/data_preprocess.py:46: SettingWithCopyWarning: \n",
      "A value is trying to be set on a copy of a slice from a DataFrame.\n",
      "Try using .loc[row_indexer,col_indexer] = value instead\n",
      "\n",
      "See the caveats in the documentation: http://pandas.pydata.org/pandas-docs/stable/user_guide/indexing.html#returning-a-view-versus-a-copy\n",
      "  self.data['landmarks'] = landmarks\n"
     ]
    }
   ],
   "source": [
    "image_landmarks_train = data_formatter_train.compute_landmarks()\n",
    "image_landmarks_test = data_formatter_test.compute_landmarks()"
   ]
  },
  {
   "cell_type": "code",
   "execution_count": 106,
   "metadata": {},
   "outputs": [
    {
     "data": {
      "image/png": "[encoded data removed]",
      "text/plain": [
       "<Figure size 576x288 with 2 Axes>"
      ]
     },
     "metadata": {
      "needs_background": "light"
     },
     "output_type": "display_data"
    }
   ],
   "source": [
    "index = 1\n",
    "\n",
    "hog_image_rescaled = exposure.rescale_intensity(hog_image_train[index], in_range=(0, 10))\n",
    "img = get_image(index)\n",
    "\n",
    "fig, (ax1, ax2) = plt.subplots(1, 2, figsize=(8, 4), sharex=True, sharey=True)\n",
    "ax1.set_title(emotions_mapping[csv.emotion.values[index]])\n",
    "ax1.axis('off')\n",
    "ax1.imshow(img, cmap=plt.cm.gray)\n",
    "\n",
    "# Rescale histogram for better display\n",
    "\n",
    "ax2.axis('off')\n",
    "ax2.imshow(hog_image_rescaled, cmap=plt.cm.gray)\n",
    "ax2.set_title('Histogram of Oriented Gradients')\n",
    "plt.show()"
   ]
  },
  {
   "cell_type": "code",
   "execution_count": 98,
   "metadata": {},
   "outputs": [
    {
     "data": {
      "text/plain": [
       "<matplotlib.image.AxesImage at 0x136aa2b70>"
      ]
     },
     "execution_count": 98,
     "metadata": {},
     "output_type": "execute_result"
    },
    {
     "data": {
      "image/png": "[encoded data removed]",
      "text/plain": [
       "<Figure size 432x288 with 1 Axes>"
      ]
     },
     "metadata": {
      "needs_background": "light"
     },
     "output_type": "display_data"
    }
   ],
   "source": [
    "hog_image_rescaled = exposure.rescale_intensity(hog_image_train[index], in_range=(0, 10))\n",
    "img = get_image(index)\n",
    "plt.imshow(hog_image_rescaled)\n",
    "plt.imshow(img)\n",
    "\n"
   ]
  },
  {
   "cell_type": "code",
   "execution_count": 107,
   "metadata": {},
   "outputs": [
    {
     "name": "stderr",
     "output_type": "stream",
     "text": [
      "/Users/antoineguiot/Documents/OMA/VIC/project/project_vic/data_preprocess.py:65: SettingWithCopyWarning: \n",
      "A value is trying to be set on a copy of a slice from a DataFrame.\n",
      "Try using .loc[row_indexer,col_indexer] = value instead\n",
      "\n",
      "See the caveats in the documentation: http://pandas.pydata.org/pandas-docs/stable/user_guide/indexing.html#returning-a-view-versus-a-copy\n",
      "/Users/antoineguiot/Documents/OMA/VIC/project/project_vic/data_preprocess.py:65: SettingWithCopyWarning: \n",
      "A value is trying to be set on a copy of a slice from a DataFrame.\n",
      "Try using .loc[row_indexer,col_indexer] = value instead\n",
      "\n",
      "See the caveats in the documentation: http://pandas.pydata.org/pandas-docs/stable/user_guide/indexing.html#returning-a-view-versus-a-copy\n"
     ]
    }
   ],
   "source": [
    "data_formatter_train.process_target()\n",
    "data_formatter_test.process_target()"
   ]
  },
  {
   "cell_type": "code",
   "execution_count": null,
   "metadata": {},
   "outputs": [],
   "source": [
    "hyperparameters = dict({'random_state' : None,\n",
    "                        'epochs':10000,\n",
    "                        'kernel':'rbf',\n",
    "                        'decision_function':'ovr',\n",
    "                        'gamma':'scale'\n",
    "                       })\n",
    "model = Model(model_type ='SVM',hyperparameters= hyperparameters, predictors = 'hog_features', targets=[0,3,4])\n",
    "model.create_model()\n",
    "model.train(data_formatter_train.data)"
   ]
  },
  {
   "cell_type": "code",
   "execution_count": null,
   "metadata": {},
   "outputs": [],
   "source": [
    "model.test(data_formatter_test.data)\n",
    "## score "
   ]
  },
  {
   "cell_type": "code",
   "execution_count": 150,
   "metadata": {},
   "outputs": [
    {
     "name": "stderr",
     "output_type": "stream",
     "text": [
      "/anaconda3/lib/python3.7/site-packages/numpy/lib/function_base.py:838: RuntimeWarning: invalid value encountered in true_divide\n",
      "  return n/db/n.sum(), bin_edges\n",
      "/Users/antoineguiot/Documents/OMA/VIC/project/project_vic/data_preprocess.py:69: SettingWithCopyWarning: \n",
      "A value is trying to be set on a copy of a slice from a DataFrame.\n",
      "Try using .loc[row_indexer,col_indexer] = value instead\n",
      "\n",
      "See the caveats in the documentation: http://pandas.pydata.org/pandas-docs/stable/user_guide/indexing.html#returning-a-view-versus-a-copy\n",
      "  lbp_hist_list.append(lbp_hist)\n"
     ]
    }
   ],
   "source": [
    "lbp_train = data_formatter_train.compute_lbp()\n",
    "lbp_test = data_formatter_test.compute_lbp()"
   ]
  },
  {
   "cell_type": "code",
   "execution_count": null,
   "metadata": {},
   "outputs": [],
   "source": []
  },
  {
   "cell_type": "markdown",
   "metadata": {},
   "source": [
    "# References\n",
    "[1] Christopher Pramerdorfer, Martin Kampel. \"Facial Expression Recognition using Convolutional Neural Networks: State of the Art\".  \n",
    "[2] Facial expression recognition based on Local Binary Patterns: A comprehensive study Caifeng Shan, Shaogang Gong, Peter W. McOwan "
   ]
  },
  {
   "cell_type": "code",
   "execution_count": 40,
   "metadata": {},
   "outputs": [
    {
     "data": {
      "text/plain": [
       "<matplotlib.image.AxesImage at 0x23a17d0bef0>"
      ]
     },
     "execution_count": 40,
     "metadata": {},
     "output_type": "execute_result"
    },
    {
     "data": {
      "image/png": "[encoded data removed]",
      "text/plain": [
       "<Figure size 432x288 with 1 Axes>"
      ]
     },
     "metadata": {
      "needs_background": "light"
     },
     "output_type": "display_data"
    }
   ],
   "source": [
    "x =data_formatter_test.data.landmarks.values[7] \n",
    "#plt.scatter(x[:,0], x[:,1])\n",
    "plt.scatter(np.array(x[:,0]),np.array(x[:,1]))\n",
    "plt.imshow(get_image(7), cmap= 'gray')"
   ]
  },
  {
   "cell_type": "code",
   "execution_count": null,
   "metadata": {},
   "outputs": [],
   "source": []
  },
  {
   "cell_type": "code",
   "execution_count": 146,
   "metadata": {},
   "outputs": [],
   "source": [
    "l = [[0,1,2],[0,3,4]]"
   ]
  },
  {
   "cell_type": "code",
   "execution_count": 53,
   "metadata": {},
   "outputs": [
    {
     "name": "stdout",
     "output_type": "stream",
     "text": [
      "<class 'pandas.core.frame.DataFrame'>\n",
      "Int64Index: 12030 entries, 26688 to 23294\n",
      "Data columns (total 3 columns):\n",
      "emotion    12030 non-null int64\n",
      "pixels     12030 non-null object\n",
      "lbp        12030 non-null object\n",
      "dtypes: int64(1), object(2)\n",
      "memory usage: 375.9+ KB\n"
     ]
    }
   ],
   "source": [
    "data_formatter_train.data.info()"
   ]
  },
  {
   "cell_type": "code",
   "execution_count": 46,
   "metadata": {},
   "outputs": [
    {
     "data": {
      "text/plain": [
       "array([ 9.,  9.,  9., ..., nan,  9.,  9.])"
      ]
     },
     "execution_count": 46,
     "metadata": {},
     "output_type": "execute_result"
    }
   ],
   "source": [
    "np.sum(np.stack(data_formatter_train.data.lbp.values),axis=1)"
   ]
  },
  {
   "cell_type": "code",
   "execution_count": null,
   "metadata": {},
   "outputs": [],
   "source": []
  }
 ],
 "metadata": {
  "kernelspec": {
   "display_name": "Python 3",
   "language": "python",
   "name": "python3"
  },
  "language_info": {
   "codemirror_mode": {
    "name": "ipython",
    "version": 3
   },
   "file_extension": ".py",
   "mimetype": "text/x-python",
   "name": "python",
   "nbconvert_exporter": "python",
   "pygments_lexer": "ipython3",
   "version": "3.7.3"
  }
 },
 "nbformat": 4,
 "nbformat_minor": 2
}
