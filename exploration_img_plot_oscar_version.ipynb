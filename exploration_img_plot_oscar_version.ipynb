{
 "cells": [
  {
   "cell_type": "code",
<<<<<<< HEAD
   "execution_count": 1,
=======
   "execution_count": 28,
>>>>>>> model modification pour different predicator
   "metadata": {},
   "outputs": [
    {
     "name": "stdout",
     "output_type": "stream",
     "text": [
      "The autoreload extension is already loaded. To reload it, use:\n",
      "  %reload_ext autoreload\n"
     ]
    }
   ],
   "source": [
    "import matplotlib.pyplot as plt\n",
    "import numpy as np\n",
    "import pandas as pd\n",
    "import matplotlib.pyplot as plt\n",
    "import matplotlib.image as mpimg\n",
    "import cv2\n",
    "from data_preprocess import dataFormatter\n",
    "from skimage import data, exposure\n",
    "from model import Model\n",
    "import copy\n",
    "from sklearn.model_selection import train_test_split\n",
    "%load_ext autoreload\n",
    "%autoreload 2\n",
    "import dlib\n",
    "from time import time"
   ]
  },
  {
   "cell_type": "markdown",
   "metadata": {},
   "source": [
    "# Project : O.Frelot A.Guiot"
   ]
  },
  {
<<<<<<< HEAD
   "cell_type": "code",
   "execution_count": 2,
   "metadata": {},
   "outputs": [],
   "source": [
    "csv  = pd.read_csv('../challenges-in-representation-learning-facial-expression-recognition-challenge/train.csv')\n",
    "# we filter our data set and only keep images 'happy', 'sad', 'angry'\n",
    "csv = csv[(csv.emotion ==0) | (csv.emotion==3) | (csv.emotion==4)]\n",
    "data = copy.deepcopy(csv)"
   ]
  },
  {
   "cell_type": "code",
   "execution_count": 3,
   "metadata": {},
   "outputs": [],
   "source": [
    "emotions_mapping = dict({0:'Angry', 1:'Disgust', 2:'Fear', 3:'Happy', 4:'Sad', 5:'Surprise', 6:'Neutral'})"
   ]
  },
  {
   "cell_type": "code",
   "execution_count": 4,
   "metadata": {},
   "outputs": [],
   "source": [
    "def get_image(index):\n",
    "    img = np.array([int(i) for i in data.pixels.values[index].split()]).reshape((48,48))\n",
    "    return img\n",
    "\n",
    "def plot_image(index= 10):\n",
    "    plt.figure(figsize=(8,6))\n",
    "    img = get_image(index)\n",
    "    plt.imshow(img, cmap='gray')\n",
    "    plt.title(emotions_mapping[data.emotion.values[index]])"
   ]
  },
  {
   "cell_type": "code",
   "execution_count": 5,
   "metadata": {},
   "outputs": [],
   "source": [
    "data_train, data_test = train_test_split(csv)\n",
    "\n",
    "data_formatter_train = dataFormatter(data_train)\n",
    "data_formatter_test = dataFormatter(data_test)"
   ]
  },
  {
=======
>>>>>>> model modification pour different predicator
   "cell_type": "markdown",
   "metadata": {},
   "source": [
    "# Abstract\n",
    "In this project, we will focus on an image classification problem. Our dataset contains a huge number of labelled images representing human faces with different face expression ('Angry', 'Disgust', 'Fear', 'Happy', 'Sad', 'Surprise', 'Neutral'). The idea is to classify these images into these 7 categories. The state of the art of this problem has been done using a deep learning approach in [1] which obtains 75% of accuracy, a Convolutional Neural Network was used during several hours on GPU to obtain these results. Here we want to approach this problem with a much simpler algorithm. Our idea is to try two different approaches : \n",
    "- Using HoG features \n",
    "- Using faces landmarks features \n",
    "- Both  \n",
    "\n",
    "Moreover to simplify the problem we will reduce the number of categories (we will keep: \"Angry\", \"Happy\" and \"Sad\").\n",
    "At first, we will start with 3 categories and then move to 7 categories to see the impact on our accuracy. In the end, we succeeded to obtain a score of around XX % (for 3 categories) which is far from the state of the art. But not to bad against the random prediction (0.33)."
   ]
  },
  {
   "cell_type": "markdown",
   "metadata": {},
   "source": [
    "# Introduction  \n",
    "As we know, deep learning approach is the state of the art of visual computing problems. For this case, the best score has been obtained using a convolutional neural network in [1].  \n",
    "Here we would like to try a much simpler approach using HoG features.  \n",
    "The main idea of our idea is to see if a simple algorithm can provide a good performance. Indeed, a neural netwok can be very long to train (several hours on multi GPU for the face expression problem). Here we will try to classify our images using a simple support verctor machine (SVM) algorithm. The training time for this type of algorithm is very face (around 1 minute).  This might be usefull if we want to train a model on a huge amount ouf data or on a dataset of high quality images"
   ]
  },
  {
   "cell_type": "markdown",
   "metadata": {},
   "source": [
    "# Problem Definition\n",
    "### Data set description  \n",
    "Our data set contains 16040 images of labeled data. Each image is described with 48x48 pixels (2304 pixels).  "
   ]
  },
  {
   "cell_type": "code",
<<<<<<< HEAD
   "execution_count": 6,
=======
   "execution_count": null,
   "metadata": {},
   "outputs": [],
   "source": [
    "csv  = pd.read_csv('../train.csv')\n",
    "# we filter our data set and only keep images 'happy', 'sad', 'angry'\n",
    "#csv = csv[(csv.emotion ==0) | (csv.emotion==3) | (csv.emotion==4)]\n",
    "data = copy.deepcopy(csv)\n"
   ]
  },
  {
   "cell_type": "code",
   "execution_count": null,
   "metadata": {},
   "outputs": [],
   "source": [
    "emotions_mapping = dict({0:'Angry', 1:'Disgust', 2:'Fear', 3:'Happy', 4:'Sad', 5:'Surprise', 6:'Neutral'})"
   ]
  },
  {
   "cell_type": "code",
   "execution_count": null,
   "metadata": {},
   "outputs": [],
   "source": [
    "def get_image(index):\n",
    "    img = np.array([int(i) for i in data.pixels.values[index].split()]).reshape((48,48))\n",
    "    return img\n",
    "\n",
    "    \n",
    "def plot_image(index= 10):\n",
    "    plt.figure(figsize=(8,6))\n",
    "    img = get_image(index)\n",
    "    plt.imshow(img, cmap='gray')\n",
    "    plt.title(emotions_mapping[data.emotion.values[index]])"
   ]
  },
  {
   "cell_type": "code",
   "execution_count": 11,
>>>>>>> model modification pour different predicator
   "metadata": {},
   "outputs": [
    {
     "data": {
<<<<<<< HEAD
      "image/png": "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\n",
=======
      "image/png": "iVBORw0KGgoAAAANSUhEUgAAAWgAAAF1CAYAAADFrXCQAAAABHNCSVQICAgIfAhkiAAAAAlwSFlzAAALEgAACxIB0t1+/AAAADh0RVh0U29mdHdhcmUAbWF0cGxvdGxpYiB2ZXJzaW9uMy4xLjEsIGh0dHA6Ly9tYXRwbG90bGliLm9yZy8QZhcZAAAgAElEQVR4nO3de7BdZZnn8d9jJHeSk5MQciUEwtVLoEwxUDiFZaBEgYap8gIjio4jVnX3NF32lGNrTVnd1dboH9NNO9VTJaOWNPY0oo0N9nRpWWkjNigYAdFARCIBArnfQy4KvPPH2Zk5B/fzS86bc/Z5yfl+qiiS9WTtvfbaaz9szvrleaOUIgBAe1431gcAAOiOBg0AjaJBA0CjaNAA0CgaNAA0igYNAI2iQQNAo2jQeE2JiA0Rcfmrtn0oIv51rI4JGC00aABoFA0aJ5SI+GRErI+IfRHxeET8u0G1D0XE/RHxPyJiT0Ssi4iVg+qrI+K/RcRDnfo9EdHfqf2fiPhPr3quxyLiut69Oow3NGicaNZL+reSZkr6M0lfi4j5g+r/RtKvJc2R9BlJdx9pwh0flPQfJC2Q9JKkL3S23y7pxiN/KCKWS1oo6Z9H52UANGi8Nv1jROw+8o+k/3mkUEr5RinlhVLKK6WUr0v6laSLBu27VdKtpZTfduq/lHTVoPodpZRflFJelPRfJb03IiZIukfSWRFxVufPfUDS10spvxm9l4nxjgaN16LrSil9R/6R9PtHChHxwYh4dFDzfqMGvi0f8XwZOiHsGQ18Wz7iuVfVTpI0p5RyWNJdkm6MiNdJukHSHSP7soChaNA4YUTEEkn/S9IfSprdad6/kBSD/tjCiBj8+9MkvTDo94tfVfutpO2d398u6f2SVko6UEr50ci+AmAoGjROJNMkFUnbJCkiPqyBb9CDzZX0RxFxUkS8R9J5Gvpz5Bsj4vyImCrpzyV9s5TysiR1GvIrkv67+PaMHqBB44RRSnlcA83zR5K2SHqTpPtf9ccelHSWBr4Vf1bSu0spOwbV75D0VUmbJU2W9Eev2v9vO4/7tRE+fOB3BAP7MV5ExIck/cdSyluT+mpJXyulfMk8xgcl3Zw9BjCS+AYNHKPOjz1+X9JtY30sGB9o0MAxiIh3aOBn21sk/e8xPhyME/yIAwAaxTdoAGgUDRoAGvX649k5Iq6U9NeSJkj6Uinlc+7PT5o0qUybNu14nnJEuB/rvPzyy8Pe75VXXqk6jte9Lv/v44QJE6r2y/z2t79Na+74XW3o3/cYKjv+2tflnqum5q6B2vNRe11lx1h7Pmp/bPnSSy8Ne5+JEyeO+HG8FmTnv+Z9OXDggA4fPtx1x+oG3ZlP8DeSrpC0UdJPIuLeTha1q2nTpmnlypVda7UfwIy7ONyFuHv37rSWNbmDBw+m+7hjd/+x6uvrS2snnXRSWss+1Js3b073OXToUFrbu3dvWps8eXJamz59etft7nW58+GalWsSr39990vc/Qfr8OHDac2dK7ffvn370lr2H63a81H7hWHbtm3DfrwlS5akNfc5q/0Pf6bmS4vk+4Q7juz5suvNPdeqVavy50krR3eRpKdKKb/uDIy5U9K1x/F4AIBBjqdBL9TQwTIbO9uGiIibI2JNRKxx3zAAAEMdT4Pu9v3/d77Dl1JuK6WsKKWsmDRp0nE8HQCML8fToDdq6OSvRRo6FQwAcByOJ8XxEw0MMF8q6XlJ10v6926HiEhvcNXc9Ki9S3zgwIGq/bJjd4/nbvTMmjUrrbm7/u5GVbbfli1b0n3cjQ13I9C9tqzmbry4G0fufLibUTU3c9y16P4v0D3mySefnNayG7G7du1K93E3Rt374j4z/f39Xbdv376963ZJeu6559La4sWL05q7SZtdIzUpE8m/Z7XXVXZjt6aPuc9EdYMupbwUEX8o6bsaiNl9pZSytvbxAABDHVcOupTyz2JNNgAYFfxNQgBoFA0aABpFgwaARtGgAaBRx3WTsEZN7CmLu7gYTO0cACebueEiVPPnz09rLuKzZ8+etOYiSlnkzx1jFq+SpN/85jdpzcX9suOfOXNmus/UqVPTmtvPnY9stoo7dnctunhb7bnK5pO4yJaL4Ln9XARvypQpXbe7c792bR7cev7559Oai+Blf+O4dtCWe19qBn5JdRHfmnkhfIMGgEbRoAGgUTRoAGgUDRoAGkWDBoBG9TzFUTP4qGZ5GcfdTXWJgOzu/umnnz7sfSRp//79ac2lBdwKLjNmzOi6/bTTTkv3cSkO91xutRW3Mk3GJW9c4sUlVLLz4Y7P1VwCyL3XbhZ6lsjIUhVSvmKN5N8zN9gr+zy5dM2KFSvS2mOPPZbW3LWfPZ8796OR4nBDlrLHdM/lPtMZvkEDQKNo0ADQKBo0ADSKBg0AjaJBA0CjaNAA0KiexuxKKWmczsWQsiiMG0DjBp24uI7b75RTTum63UWGHBe7cdEmZ86cOV23n3nmmek+8+bNS2tuTUIXKcriii6K5uzbty+tvfjii2ktu65cLMtFr9yQIhcTdOcxi765GKN7PPe5cLL3zJ3f2bNnp7Vly5alNbeWYRYhrB1y5t5PF990teyz666B7Py6iDHfoAGgUTRoAGgUDRoAGkWDBoBG0aABoFE0aABoVE9jdhGRxthq1hesXaPM1dxktCxu5GIy2TQ1ycfUXBxtyZIlaW358uVdt59zzjnpPi7S586xO8aa9dccFx1z0bdsMt2mTZvSfdyxu6iXm4Ln3ussMueip+58nHTSSWnNTWvMjsNd3+41u+Nw11wWO3TRQtc/HHeMLp5XM2GTmB0AnEBo0ADQKBo0ADSKBg0AjaJBA0CjaNAA0KhmYnZuclSmdvFXFx1zk7uyaJCL0m3bti2tuQU8zz333LR2xRVXDHu/2khcbQypZp+aKJrkF/ecNWtW1+3ZZEK3jyStX78+rbnz+MILL6S17NqvmYAn+aio+1xki8329fWl+7hj3LFjR1pzsgihm/7orisbYzPvmduv5jhqPi98gwaARtGgAaBRNGgAaBQNGgAaRYMGgEbRoAGgUT2N2Ul1U6CymovBuOiVm2Tmol7ZgqzPPPNMus/OnTvTmptKd8kll6Q1N5kuixDWRulcbaQn1o3GQr/Z8btjd++Lu67cMbppa1u3bu263UXY3LVfs9ipq7ljd9eHiyu6OGvNore1E/xc33HXVc0+NYve8g0aABpFgwaARtGgAaBRNGgAaBQNGgAa1dMURyklTUm4O5zZHXc3AGjPnj1pbf/+/WntjDPOSGvZ+mtuXbb+/v605gYiLVu2LK052bly6QN359nd9e/loJnaO/E1CSCXgpg3b15ac9dVzcAeNxBp2rRpac0lJNx7ll0H06dPT/epHUTk1iTMPk/udbnPmUuh1K5dmvUxdz5qEmx8gwaARtGgAaBRNGgAaBQNGgAaRYMGgEbRoAGgUT0flpRFV2riKS4etn379rTmomMu/rN58+au22fOnJnu49aHW7p0aVpz6xy6153F6dwwGRdXdDVnpGN27vhrHrM20ucG+bj3eu7cuWktux6z603yQ70cd30fPnx42M/lPkvuXLnoW3Z9u8+0WzdxNK7h7Hp01072eDaqmFYAAGOKBg0AjaJBA0CjaNAA0CgaNAA0igYNAI3qacwuIqoiL9mku71796b7uGiQi8VlUSMpj+u4yJaL/2RrHB7tMWsmcLmYmovt1a47WBOzc2rXVKyZZjdlypS05iaqueNwEbyadSR37dqV1g4ePJjW3DFmr9t9ltzUyFrZ591F89z74iKrbnKhe9010d/sdR3XNLuI+EpEbI2IXwza1h8R34uIX3X+na8OCQCocixfj74q6cpXbfukpFWllLMkrer8HgAwgo7aoEsp90na+arN10q6vfPr2yVdN8LHBQDjXu1NwlNLKZskqfPv9O+xRsTNEbEmIta4v/oJABhq1FMcpZTbSikrSikrJk+ePNpPBwAnjNoGvSUi5ktS599bR+6QAABSfczuXkk3Sfpc59/3HOuOWbzJxVOyeI2LxLnoiuNiNyN57FJ99K1GzbTA0Xg+91zuGGuPPzuP7vHcxDe3gKpbPNjtlx2ju3ZczcXDXHQve0x3LboI24YNG6qOI3tv3KQ4Fzt0sdrahY9r46fDdSwxu7+X9CNJ50TExoj4iAYa8xUR8StJV3R+DwAYQUf9Bl1KuSEprRzhYwEADMJf9QaARtGgAaBRNGgAaBQNGgAa1fNFY7PITjbpSaqL3bgYknsut1/2NyFd3M89V+1f3HGxsiwm6F6Xiwy9FuJ+NZPzahcSdXE5N52wZmJgzTQ1SdqxY0dac9Pnsutxy5Yt6T5uWqP7fO7bty+tZa/Nfc7cZEu330hHXWs+S8c1zQ4AMDZo0ADQKBo0ADSKBg0AjaJBA0CjaNAA0Kiex+yySJSbIpfFddw+tZPAXAwpW5iyNobkFid1amJlLu7narULyrrHzIxGzC47RrePi15Nmzbt2A9skJrr28Uw3fQ2t9/mzZvTWhZ9c8/lau76OHDgQFrLrgP3uvbv31/1XO7z6a797P10+2Svi5gdALwG0aABoFE0aABoFA0aABpFgwaARvU8xZHd3a9JC7g78e6uuRue4ga8ZAkPdwfZJTUmTpyY1mqNxvqCNc9Vs2Zb7SClmtdcuzbipEmT0pp7zTXDmWrXHaxZV1PyCY9MNkBM8q/ZpXyyx3Tn3p0Pt1bkrFmz0po7jzU9KavZFFJaAQCMKRo0ADSKBg0AjaJBA0CjaNAA0CgaNAA0qqcxu1deeSWNuLnYTRahcTEkF11x0SC3XzZ0xUW2XDRo6tSpac3pZeSs1kg/Zs1AJKc2ZueiV46LnM2dO3fYz+WG/GzYsCGtuUFQGRcjdbFUd45rPrtuHxfTdcdfOygsO0YX9xvuY0l8gwaAZtGgAaBRNGgAaBQNGgAaRYMGgEbRoAGgUT2N2ZVS0hiKi+tk8RoXu6mNQ7lJd1kkx8W83Dpqbpqdi/jUTEar5WJINVG6mvUUj0d2Hbh16nbs2JHW9u7dm9bcuXLXSBa3nD59errPokWL0toLL7yQ1lzkbMaMGV23u3UHaz4vUl000j2XuxaztUQlH7l1kcSa46/pSXyDBoBG0aABoFE0aABoFA0aABpFgwaARtGgAaBRPV80NotZuQhKFqFxMR4X53LxPBf3y57PPZ7j4nIu4uNeWxZFcrE9p3bhz+w9q4knSf76cFGpbKFft5Coe83z5s1Lay5S6c5Vdiwu0udigi4W52J2LsZWw8VI3dS3mol77jPoau7ace9n9nk6ePBgug+LxgLACYQGDQCNokEDQKNo0ADQKBo0ADSKBg0Ajep5zC6LX7kYVRZpcROs3OO52E3Noo8umufiXC5e4yaSucesiSS6CF424UySTj755LSWLWo6ZcqUquNw58q9tprYoTu/jz/+eFrbuHFjWnNxriy6567TrVu3pjV3PrZt25bWsgWOFyxYkO7z5JNPpjX3GXTXVfZ5qukRR9vPfXad7ByP9LRGvkEDQKNo0ADQKBo0ADSKBg0AjaJBA0Cjep7iyNSkDNxQG1dzd27dXdis5o598+bNaW3nzp1pzQ0VOuOMM9Jato6dS6e4AS8ufeDWessSHm6dvSxFcLTnevjhh9PaU0891XW7Ox+1d/Z//OMfpzWXWsiSFe5czZ49O625YUNz5sxJa2vXru26/dRTT033OeWUU9Lali1b0prT39/fdbv7LLnXXJvicNdIlpZyybKahAffoAGgUTRoAGgUDRoAGkWDBoBG0aABoFE0aABo1FFjdhGxWNLfSpon6RVJt5VS/joi+iV9XdLpkjZIem8pJV8MbeCx0vibi8W5x8vUDtepfb7M9u3b05obvOMGEW3YsCGt/fKXv+y63cWJ3Bp2bgiNG6KTrZmXDVGSpKlTp6a17373u2nNRb1uvPHGrtvdOTz77LPTmov7PfPMM2lt6dKlaS2LF7o1CU877bS05mKY06ZNS2tZBC+LvUnSz372s7S2Y8eOtOau7/nz53fd7mJ2o8FF97LP01gMS3pJ0p+UUs6TdLGkP4iI8yV9UtKqUspZklZ1fg8AGCFHbdCllE2llIc7v94n6QlJCyVdK+n2zh+7XdJ1o3WQADAeDetn0BFxuqQLJT0o6dRSyiZpoIlLmjvSBwcA49kxN+iImC7pHyT9cSkl/+HY7+53c0SsiYg12fB0AMDvOqYGHREnaaA5/10p5e7O5i0RMb9Tny+p6xIPpZTbSikrSikr3KwFAMBQR23QMRBd+LKkJ0opfzmodK+kmzq/vknSPSN/eAAwfh1Ltu1SSR+Q9POIeLSz7VOSPifproj4iKRnJb3naA/kYnYuwlY7XSxTG8HLplstX7483WfJkiVp7YEHHkhrN9xwQ1r7xje+kdaySFS27p0kPf3002mtJg4lSatWreq63U11++hHP5rWFi1alNbcFLnsPXPnw0XpnGuvvTatuRhpNrXOReImT56c1lw08qqrrkpr2fFv2rQp3WfPnj1pze3nrp25c7vfznKvy63f6CZDut7i3rPsunL9oyaCd9QGXUr5V0lZ91w57GcEABwT/iYhADSKBg0AjaJBA0CjaNAA0CgaNAA0qplFY12EJlu41E2bqo3kuJhMVrvkkkvSfdatW5fW3KKabsLcBRdckNayaXHufFxzzTVpzS0a6ybTZdPWLr/88nSft7zlLWnt/PPPT2vuXN13331dt7/rXe9K93HxKnceXZzL1WomPLrIlvsbu+4vi2UTCN0Ctdddl4/gefbZZ9Oa+wxmU/XclMGf/vSnac1NSXQLyta+1xkWjQWAEwgNGgAaRYMGgEbRoAGgUTRoAGgUDRoAGtXTmF0pJY2quSjM/v37u253074mTpxojyNTsxCtWxzTTfRyMSp3HG9961vTmosvZVyUbvfu3Wlt5syZaW3ZsmVdt7spbDt37kxr2fQwSbr00kuHfRzZBDlJmjJlSlpz75mLaLo4V8bFvNz14fZzx5i9toMHD6b7uAjeG97whrTmrrksRppNSJT863Lnw3HvWdYLao7DvZd8gwaARtGgAaBRNGgAaBQNGgAaRYMGgEb1fFhSdmfUDT7K7qq79cRcWsANOqm5E++GHi1dujStbdu2La1lw4Ykn3jJUhzujrRLJriBSO48XnzxxV23u/SEO/fuudz5WLBgQdftLsnj7vq781hzDTu1a2c6Lg2TcSkDdz7cEDG31uXChQuP7cAGcefecefY9ZeaFEdWc8fAN2gAaBQNGgAaRYMGgEbRoAGgUTRoAGgUDRoAGtXzmF0W6XJRkxkzZnTd7gb5uMdzg5RcTCaLc61duzbd55xzzklr733ve9OaiwnWRL1clM49nhu+5CJbLppVs09NfEnK37PaQVWOO1cuBpY9X82wnqMdhztX2VqGted+8eLFac0NWXruuee6bt+3b1+6jxucVrvGZM376c5H9njE7ADgNYgGDQCNokEDQKNo0ADQKBo0ADSKBg0AjeppzC4i0siLixRlURg3EWvPnj1pzUWeXHQsO3YXy1q3bl1a+8QnPpHWamN22dQ0d4xZvEryESU3YS47j7UT2lzkyR1/dhwuaunOb+1UvZrXbdeqM8fhjr8mUlm7hqebXOjO/wMPPNB1u4vVzpkzJ625Y6yJPzrufanBN2gAaBQNGgAaRYMGgEbRoAGgUTRoAGgUDRoAGtXMorFuqlQW83H7zJo1K625uM6hQ4fSWvZ8tYuMbt++Pa296U1vSms10SYXYXPH786VO/5TTz216/ZJkyal+9ROmHOLe+7fv3/Yx+Gilm6hXxezczGwmvim486Hiytm3PXhnuv+++9PawcPHkxrd911V9fttZG42kl3Tk0k0dUyfIMGgEbRoAGgUTRoAGgUDRoAGkWDBoBG0aABoFE9jdmVUtK4V008pWbxVMnHoVz8J3s+N8HKxdtcZMtx09uyY3HRsc2bN6c1tyDuueeeO+zjcOeqNq7ozrGbCphx56qvry+tufdl06ZNaS2LhLoo4GgsGlvzXNn0RElatWpVWnPHWBMFdFyUzp1jd65qFvqtmo437D0AAD1BgwaARtGgAaBRNGgAaBQNGgAaRYMGgEb1fJpdxkV5aiJbruaiQS52k8Woahf3fPrpp9OamxLmYmBZNOjAgQPpPj//+c/TmluY97TTTktrW7du7bp9w4YN6T7ZBDzJR57ca8vilrVT9dxkNBfBc5P/du7c2XW7W3S1NpLoPmfZY7rHy6YFSv41u/hjVtu1a1e6j4vmuc+gW7zWfc6yY3TXaU3EkW/QANAoGjQANIoGDQCNokEDQKNo0ADQqKOmOCJisqT7JE3q/PlvllI+ExFLJd0pqV/Sw5I+UErJb3sOPJa9ozpctUNc3J1bN2Qpu6tbu67ZunXr0tqOHTvSmjuH2bG4IVAufXDeeeelNXfnPEt/uDvZbtiQS7W49yx7bTNmzEj3cQkJd+7d+Zg3b15aywYpuXSKS9fUJjwy7vp215WruWPMuLRUTULiaGrOlTNaaxIelvT2UspySRdIujIiLpb0eUl/VUo5S9IuSR8Z9rMDAFJHbdBlwJGw40mdf4qkt0v6Zmf77ZKuG5UjBIBx6ph+3hAREyLiUUlbJX1P0npJu0spR/6fbqOkhaNziAAwPh1Tgy6lvFxKuUDSIkkXSer2g8muP2CJiJsjYk1ErDl06FD9kQLAODOsO3allN2SVku6WFJfRBy5e7BI0gvJPreVUlaUUlbUrG4BAOPVURt0RJwSEX2dX0+RdLmkJyR9X9K7O3/sJkn3jNZBAsB4dCz5sPmSbo+ICRpo6HeVUv4pIh6XdGdE/IWkRyR9+WgPVEpJoysudpPFU1z0yg2amTlzZlrLBtdIdevbuYiSW6fuueeeS2sLFixIay+++OKwj2Phwvz2gVu/0Z2PbBiRi7e5QUQu8uTibVk0cvfu3ek+Lh7mom9uAJO7rrJz4t4XF/dz58oNAMpijjXxMMnHH+fMmZPW9uzZ03V77SAi11vcMbofyVYNPqqIGB+1QZdSHpN0YZftv9bAz6MBAKOAv0kIAI2iQQNAo2jQANAoGjQANIoGDQCN6vmahFlkx0V5silWtVEjN+nORXKympvC5uJtLsbz6KOPprU3v/nNaW3fvn1dt7tInIsMuXjYs88+m9ay6JuLorlpZS6e56JjWSzOvS8uAnbKKaekNcetP9nf3991e23s0MUEnewx3fvy/PPPpzW3JuGFF/5OMOz/yd6zLVu2pPu4z5LrLbX7Zde322e0ptkBAMYADRoAGkWDBoBG0aABoFE0aABoFA0aABrV85hdFtlxUZ5MzQS8o3HRvewxa/aR/KS4H/7wh2ntfe97X1rLJvW56X7u+Pfu3ZvWHnroobS2bNmyrtsvuiifr+UmxbmFfl3M7tRTT+263cXsamNl69evT2suVlazwG5tzclidu4adhMZzznnnLR25plnprWNGzd23e6uATfR0E29dI9Zs/iuO1c1+/ANGgAaRYMGgEbRoAGgUTRoAGgUDRoAGkWDBoBG9Txml3HTubK4i4tKjYYsfuViTS5C46Jva9asSWurV69Oa1dffXXX7S7C5o7D1a655pq0tnbt2q7bn3rqqXQfF71y0+zc9LYsgvfMM8+k+7gJfm762bx589KaW6g4464dFy10n6WaxXddDNMtvuumLjrbtm3run3WrFnpPi7+6N4zt2isi1tmPcnF/WrwDRoAGkWDBoBG0aABoFE0aABoFA0aABrV0xhEKSW9i1wz/MXdkXbcnVuXDMnu0NbeuXX7uTvgixcvTmvZXXU3FMZxd7Ld3f1sSJFbm8+dD7eOZM0afG6ATl9fX1pbtGhRWqsZriPl59idD/d5cc/l1s/MkiHZMCdJOv/889Pa/fffn9Yee+yxtJalLtxn0yVe3GuuHZaU9RB3jNl7Zj9jaQUAMKZo0ADQKBo0ADSKBg0AjaJBA0CjaNAA0KieD0uqicbVxNhclM4NT6kZwOT2cUOKzjvvvLR26623pjUXK8uGES1ZsiTdp2Y9SEmaNGlSWsuiameddVa6j4tDuUifW9sxuw7c8CIXvapZc07yka3s+q4dluQihO56zM6Ve13uGr7jjjvSmotbLly4sOt297rcZ9BdVy6+6fpONkSsdj3IDN+gAaBRNGgAaBQNGgAaRYMGgEbRoAGgUTRoAGhUz2N2Nev6DfexjvZ4+/btG/ZzST72VMOti7dnz5601t/fn9ayY/z2t7+d7rNy5cq05taBczGkLPY0bdq0queqnaqXRcfcPi5W5q4B95huv6zmonQuOvbiiy+mtZGOjrk4q5uC52KH2flw+7iai+c5NRM2RxrfoAGgUTRoAGgUDRoAGkWDBoBG0aABoFE0aABoVM9jdlkUaaQjbC4G42I3NZPzaqNXW7duTWtf/OIX09qNN96Y1u6+++6u27/1rW+l+7jFPT/96U+ntQULFqS17HXXLMor+cl5LmLlzn/N47m4X+3CpVnNxUFdlM4dh5veNtKPN3v27LTmooxZzZ37LCIo+Ql+7pqriU26Y3TXVXoMw94DANATNGgAaBQNGgAaRYMGgEbRoAGgUTRoAGhUT2N2EVG1QGnNQq5uEljNwrWOe00uxuMWLv3Od76T1u699960lkWzXAzJxew+/vGPp7XPfvazae2Nb3xj1+3uXLnJaO4acPtl3DXgIpo1i79KfqHibHLh/v37q47DRd/ceaz5bLoI3plnnpnWVq1aldaySOXu3bvTfdwkRBdJdJHbyZMnp7XsvXbXYhbbs5Ma0woAYEzRoAGgUTRoAGgUDRoAGkWDBoBGHXM8IiImSFoj6flSytURsVTSnZL6JT0s6QOllDw6oYG741m6wt3JrLm77Bw8eDCtubu62XG4oSq1a9/VpgWytIa7297X15fWnnzyybR2yy23pLUvfOELXbdfcMEF6T61awHWpHJq15SrHYi0a9eutJYlbyZOnJju49IY7tpx+9UMLHOflwsvvDCtudRF9n66694dh0tLuXSNS8Nkx+I+76M9LOkWSU8M+v3nJf1VKeUsSbskfWTYzw4ASB1Tg46IRfYqlK0AAAinSURBVJKukvSlzu9D0tslfbPzR26XdN1oHCAAjFfH+g36VkmfkHTk/wtnS9pdSjnyPX+jpIUjfGwAMK4dtUFHxNWStpZSfjp4c5c/2vUHWBFxc0SsiYg17m/3AQCGOpabhJdK+r2IeJekyZJmaOAbdV9EvL7zLXqRpBe67VxKuU3SbZLU19c3ssumAMAJ7KjfoEspf1pKWVRKOV3S9ZL+pZTyfknfl/Tuzh+7SdI9o3aUADAOHc+wpP8i6c6I+AtJj0j68rHslMWbXPzHRWgyLjJUs+6glMfs3HPVRGuOxj1mdn5dVNHF1FzU6Nlnn01rn/rUp7pud2stzp8/P63VrGEn1Q2ocdz6djt27EhrbmBPNhyoNi5XMzxKys9JbeRz3rx5ae36669Pa6tXr+66vXaNxv7+/rS2d+/etOZeW3ZO3LWY9THXP4bVoEspqyWt7vz615IuGs7+AIBjx98kBIBG0aABoFE0aABoFA0aABpFgwaARvV0TUIpj5S46WLZPm5ylJss5iJKLlqT7ecmYrmJZLVrI7pYTk0U0EXO3N/+zOJhkvT444933f7QQw+l+1x22WVpzUXHXG2kJ7S5WJaL4NUcv3tf3HXlPhe1ccuM+yy52ooVK9Ja9trcOoYbNmxIa+59cZPu3HVQMw0x+yy5a5Rv0ADQKBo0ADSKBg0AjaJBA0CjaNAA0CgaNAA0qucxu4yLtGSTo1zUxcXsahcMrZlM5/ZxkafaWFy2X+00OMdFErNIkYvtuZqbFOfiXFlky71mdxzu3LvJfy5ml8XiejmxznHnyh2Hi2HOmDEjrc2dO7frdjftcO3atWmtNgroInjZ58x93rPzSMwOAF6DaNAA0CgaNAA0igYNAI2iQQNAo2jQANConsbsSinVEbduXJRu8uTJac0tMOmiYzVxNPd6XcTH7efiS9lrq43ZuciZ2+/KK6/suv2MM85I93FxI/d+1kT33LmfPn16WnOT4lytJmZXO5XOcfvVLLDr3jMXO3Sy92z58uXpPm5B2UceeWTYzyX5a2TBggVdt7vJeTX4Bg0AjaJBA0CjaNAA0CgaNAA0igYNAI2iQQNAo3o+zS6Lj7kYUhZ9c/EfF1NzNTdVL4uwuQU8XYzHxajcfi6+lMV83Oty0cLFixentXe+851pbdmyZV23T506Nd3HcefYTRDLau56q5laWHscUn4du+ujNq5a85i1nzN3XdVwx/HhD384rV100UVp7a677kprzz//fFrr6+sb1nYpn8hoo49pBQAwpmjQANAoGjQANIoGDQCNokEDQKN6nuLI7ljWDF05dOhQuo8biOQSDa6WJSvc0CA30MkNVnF3wN3goGnTpnXd7taAc3e53/GOd6Q1d8c6GzTj0hO1g6VqEhm1a0XWDBuS/PHXfCZqj9HJzok7jr1796a1devWpTX3+Zw1a1bX7Q888EC6j1uv8LLLLktrZ599dlq755570lr22twgs/7+/q7b3bXIN2gAaBQNGgAaRYMGgEbRoAGgUTRoAGgUDRoAGtXTmF1EpJEStw5cFmM7ePBguo+Lt7l4nqtl8SX3XC6C5+JyJ598clpzUZ4sTrdy5cp0H7dOoDvGDRs2pLUsuueidLWxspoIntvHHYc7/tphSTXH0esIXmb9+vVp7cEHH0xrc+fOTWvZOX7b296W7uMiju7cL1q0KK197GMfS2vZa/vBD36Q7pPFat01xTdoAGgUDRoAGkWDBoBG0aABoFE0aABoFA0aABoVLq4z4k8WsU3SM53fzpG0vWdP3j7Ox1Ccj6E4H0OdSOdjSSnllG6FnjboIU8csaaUsmJMnrxBnI+hOB9DcT6GGi/ngx9xAECjaNAA0KixbNC3jeFzt4jzMRTnYyjOx1Dj4nyM2c+gAQAeP+IAgEaNSYOOiCsj4pcR8VREfHIsjmEsRcRXImJrRPxi0Lb+iPheRPyq8+/uK2eegCJicUR8PyKeiIi1EXFLZ/u4PCcRMTkiHoqIn3XOx591ti+NiAc75+PrETFxrI+1VyJiQkQ8EhH/1Pn9uDgXPW/QETFB0t9Ieqek8yXdEBHn9/o4xthXJV35qm2flLSqlHKWpFWd348XL0n6k1LKeZIulvQHnWtivJ6Tw5LeXkpZLukCSVdGxMWSPi/przrnY5ekj4zhMfbaLZKeGPT7cXEuxuIb9EWSniql/LqU8htJd0q6dgyOY8yUUu6TtPNVm6+VdHvn17dLuq6nBzWGSimbSikPd369TwMfxIUap+ekDNjf+e1JnX+KpLdL+mZn+7g5HxGxSNJVkr7U+X1onJyLsWjQCyU9N+j3GzvbxrtTSymbpIGGJSmfaH4Ci4jTJV0o6UGN43PS+V/6RyVtlfQ9Sesl7S6lvNT5I+Ppc3OrpE9IOjLZfrbGybkYiwbdbUkHoiRQREyX9A+S/riUsnesj2cslVJeLqVcIGmRBv6v87xuf6y3R9V7EXG1pK2llJ8O3tzlj56Q56KnS151bJS0eNDvF0l6YQyOozVbImJ+KWVTRMzXwDencSMiTtJAc/67Usrdnc3j+pxIUilld0Ss1sDP5vsi4vWdb47j5XNzqaTfi4h3SZosaYYGvlGPi3MxFt+gfyLprM5d2ImSrpd07xgcR2vulXRT59c3SbpnDI+lpzo/U/yypCdKKX85qDQuz0lEnBIRfZ1fT5F0uQZ+Lv99Se/u/LFxcT5KKX9aSllUSjldA73iX0op79c4ORdj8hdVOv81vFXSBElfKaV8tucHMYYi4u8lvU0DE7m2SPqMpH+UdJek0yQ9K+k9pZRX30g8IUXEWyX9UNLP9f9/zvgpDfwcetydk4h4swZufE3QwJeou0opfx4RZ2jgpnq/pEck3VhKyVcsPsFExNsk/edSytXj5VzwNwkBoFH8TUIAaBQNGgAaRYMGgEbRoAGgUTRoAGgUDRoAGkWDBoBG0aABoFH/F+59GSUIX5r6AAAAAElFTkSuQmCC\n",
>>>>>>> model modification pour different predicator
      "text/plain": [
       "<Figure size 576x432 with 1 Axes>"
      ]
     },
     "metadata": {
      "needs_background": "light"
     },
     "output_type": "display_data"
    }
   ],
   "source": [
    "plot_image(7)"
   ]
  },
  {
   "cell_type": "markdown",
   "metadata": {},
   "source": [
    "The distribution of the categories is as follows : "
   ]
  },
  {
   "cell_type": "code",
<<<<<<< HEAD
   "execution_count": 7,
=======
   "execution_count": 44,
>>>>>>> model modification pour different predicator
   "metadata": {},
   "outputs": [
    {
     "name": "stdout",
     "output_type": "stream",
     "text": [
      "Happy    0.449813\n",
      "Sad      0.301122\n",
      "Angry    0.249065\n",
      "Name: emotion, dtype: float64\n"
     ]
    }
   ],
   "source": [
    "emotions_mapping\n",
    "repartition = csv.emotion.value_counts(True)\n",
    "repartition.index = repartition.index.map(emotions_mapping)\n",
    "print(repartition)"
   ]
  },
  {
   "cell_type": "markdown",
   "metadata": {},
   "source": [
    "The data set is unbalenced (all categories doesn't contain the same number of image) "
   ]
  },
  {
   "cell_type": "markdown",
   "metadata": {},
   "source": [
    "# Methodology"
   ]
  },
  {
   "cell_type": "markdown",
   "metadata": {},
   "source": [
    "### HoG features  \n",
    "Here we will explain how to describe an image using HoG features :  \n",
    "This could be done in several steps :   \n",
    "- Calculate the Gradient Images   \n",
    "\n",
    "At first we compute the gradient $g_x $ and $g_y$  \n",
    "then :   \n",
    "$ g= \\sqrt{g_x + g_y} $  \n",
    "$ \\theta = arctan(\\frac{g_y}{g_x}) $ \n",
    "\n",
    "- Calculate Histogram of Gradients in 4×4 cells  \n",
    "\n",
    "In this step, the image is divided into cells each cells contains 4x4 pixels and a histogram of gradients is calculated for each cell. The histogram contains 9 (as recommended in the original paper) bins corresponding to angles 0, 20, 40 … 160. \n",
    "\n",
    "- Normalization  \n",
    "\n",
    "The next step of the process in to normalise each gradient histogram. Indeed some part of the image might have a bigger brigtness than others. This could lead to a difference in gradient histograms. \n",
    "\n",
    "The idea is to normalize each histogram  over a bigger sized block of 8×8. A 8×8 block has 4 histograms which can be concatenated into one vector and can be normalized. Then we can move this 8x8 block by 4 pixel and then recompute the normalization in the block.\n"
   ]
  },
  {
<<<<<<< HEAD
   "cell_type": "code",
   "execution_count": 8,
   "metadata": {},
   "outputs": [
    {
     "name": "stderr",
     "output_type": "stream",
     "text": [
      "/anaconda3/lib/python3.7/site-packages/skimage/feature/_hog.py:150: skimage_deprecation: Default value of `block_norm`==`L1` is deprecated and will be changed to `L2-Hys` in v0.15. To supress this message specify explicitly the normalization method.\n",
      "  skimage_deprecation)\n",
      "/anaconda3/lib/python3.7/site-packages/skimage/feature/_hog.py:248: skimage_deprecation: Argument `visualise` is deprecated and will be changed to `visualize` in v0.16\n",
      "  'be changed to `visualize` in v0.16', skimage_deprecation)\n",
      "/Users/antoineguiot/Documents/OMA/VIC/project/project_vic/data_preprocess.py:35: SettingWithCopyWarning: \n",
      "A value is trying to be set on a copy of a slice from a DataFrame.\n",
      "Try using .loc[row_indexer,col_indexer] = value instead\n",
      "\n",
      "See the caveats in the documentation: http://pandas.pydata.org/pandas-docs/stable/user_guide/indexing.html#returning-a-view-versus-a-copy\n",
      "  self.data['hog_features'] = hog_features\n"
     ]
    }
   ],
   "source": [
    "hog_image_train = data_formatter_train.compute_hog()\n",
    "hog_image_test = data_formatter_test.compute_hog()"
   ]
  },
  {
   "cell_type": "code",
   "execution_count": 9,
   "metadata": {},
   "outputs": [
    {
     "data": {
      "image/png": "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\n",
      "text/plain": [
       "<Figure size 576x288 with 2 Axes>"
      ]
     },
     "metadata": {
      "needs_background": "light"
     },
     "output_type": "display_data"
    }
   ],
   "source": [
    "index = 1\n",
    "\n",
    "hog_image_rescaled = exposure.rescale_intensity(hog_image_train[index], in_range=(0, 10))\n",
    "img = get_image(index)\n",
    "\n",
    "fig, (ax1, ax2) = plt.subplots(1, 2, figsize=(8, 4), sharex=True, sharey=True)\n",
    "ax1.set_title(emotions_mapping[csv.emotion.values[index]])\n",
    "ax1.axis('off')\n",
    "ax1.imshow(img, cmap=plt.cm.gray)\n",
    "\n",
    "# Rescale histogram for better display\n",
    "\n",
    "ax2.axis('off')\n",
    "ax2.imshow(hog_image_rescaled, cmap=plt.cm.gray)\n",
    "ax2.set_title('Histogram of Oriented Gradients')\n",
    "plt.show()"
   ]
  },
  {
   "cell_type": "markdown",
   "metadata": {},
   "source": [
    "### lbp features  \n",
    "Here we will explain how to describe an image using local_binary_pattern (lbp)   \n",
    "\n",
    "\n",
    "LBP was first described in 1994. It has since been found to be a powerful feature for texture classification; it has further been determined that when LBP is combined with the Histogram of oriented gradients (HOG) descriptor, it improves the detection performance considerably on some datasets.  \n",
    "\n",
    "The LBP feature vector, in its simplest form, is created in the following manner:\n",
    "\n",
    "- Divide the examined window into cells (e.g. 16x16 pixels for each cell) (for a 48x48 it will split the image into 9 parts) \n",
    "- For each pixel in a cell, compare the pixel to each of its 8 neighbors (on its left-top, left-middle, left-bottom, right-top, etc.). Follow the pixels along a circle, i.e. clockwise or counter-clockwise.\n",
    "- Where the center pixel's value is greater than the neighbor's value, write \"0\". Otherwise, write \"1\". This gives an 8-digit binary number (which is usually converted to decimal for convenience).\n",
    "- Compute the histogram, over the cell, of the frequency of each \"number\" occurring (i.e., each combination of which pixels are smaller and which are greater than the center). Here we will create an histogram containing only 10 bins (in order to reduce the dimension) \n",
    "- Concatenate histograms of all cells. This gives a feature vector for the entire window.  \n",
    "\n",
    "We will implement the methods explained in the article from Caifeng Shan, Shaogang Gong and Peter W. McOwan [2] \n"
   ]
  },
  {
   "cell_type": "code",
   "execution_count": 10,
   "metadata": {},
   "outputs": [
    {
     "name": "stderr",
     "output_type": "stream",
     "text": [
      "/Users/antoineguiot/Documents/OMA/VIC/project/project_vic/data_preprocess.py:69: SettingWithCopyWarning: \n",
      "A value is trying to be set on a copy of a slice from a DataFrame.\n",
      "Try using .loc[row_indexer,col_indexer] = value instead\n",
      "\n",
      "See the caveats in the documentation: http://pandas.pydata.org/pandas-docs/stable/user_guide/indexing.html#returning-a-view-versus-a-copy\n",
      "  self.data['lbp'] = lbp_hist_list\n",
      "/Users/antoineguiot/Documents/OMA/VIC/project/project_vic/data_preprocess.py:70: SettingWithCopyWarning: \n",
      "A value is trying to be set on a copy of a slice from a DataFrame.\n",
      "Try using .loc[row_indexer,col_indexer] = value instead\n",
      "\n",
      "See the caveats in the documentation: http://pandas.pydata.org/pandas-docs/stable/user_guide/indexing.html#returning-a-view-versus-a-copy\n",
      "  self.data['is_lbp_nan'] = np.sum(np.stack(self.data.lbp.values), axis=1)\n"
     ]
    }
   ],
   "source": [
    "lbp_train = data_formatter_train.compute_lbp()\n",
    "lbp_test = data_formatter_test.compute_lbp()"
   ]
  },
  {
=======
>>>>>>> model modification pour different predicator
   "cell_type": "markdown",
   "metadata": {},
   "source": [
    "### Landmarks features  #TODO\n",
    "Facial landmarks are used to localize and represent salient regions of the face, such as:  \n",
    "\n",
    "- Eyes\n",
    "- Eyebrows\n",
    "- Nose\n",
    "- Mouth\n",
    "- Jawline  \n",
    "\n",
    "Facial landmarks have been successfully applied to face alignment, head pose estimation, face swapping, blink detection and much more.  \n",
    "\n",
    "Detecting facial landmarks is a subset of the shape prediction problem. Given an input image, a shape predictor attempts to localize key points of interest along the shape.\n",
    "\n",
    "In the context of facial landmarks, our goal is detect important facial structures on the face using shape prediction methods.\n",
    "\n",
    "Detecting facial landmarks is therefore a two step process:\n",
    "\n",
    "- Step 1 : Localize the face in the image.  \n",
    "- Step 2: Detect the key facial structures on the face ROI.\n",
    "\n",
    "In our case on each image we only one face. Therefor we won't need the first step. We will just give all the image as the face to the step 2.\n",
    "We will use the facial landmarks detector of the library dlib. This detector is the implementation of the paper of Kazemi and Sullivan (2014) \"One Millisecond Face Alignment with an Ensemble of Regression Trees\".\n",
    "This method is based on 2 points:\n",
    " - A set of facial landmarks labeled on an image. These images are labelled manually. 68 points surrounding the face are defined.\n",
    " - The probability of the distance between two neighbours pixels.\n",
    " \n",
    " Given this two points a model is learned to detect the facial landmark on a new pixel. There is no feature extraction, the model is only baszed on the pixel intensity. That's why it is very efficient."
   ]
  },
  {
   "cell_type": "markdown",
   "metadata": {},
   "source": [
    "### Model (SVM) \n",
    "Nous alllons utiliser un modèle SVM pour classifier nos données.\n",
    "Voici les valeurs des hyperparametres que nous avons choisi:\n",
    "- epochs:1000\n",
    "- Kernel function: Radial Basis Function (rbf)\n",
    "$K(x_1,x_2)=exp(-\\gamma||x_1-x_2||^2)$\n",
    "- Gamma:\"scale\" that means $\\gamma=\\frac{1}{n\\_features \\times X.var}$\n",
    "\n",
    "- Decision function: ovr which means 'one versus rest'. \n",
    "Each class is  against all the other classes independently. The model create a classifier for each situation. The model creates a binary label for whether a point is in a class or not.\n",
    "\n",
    "\n"
   ]
  },
  {
<<<<<<< HEAD
   "cell_type": "code",
   "execution_count": 11,
=======
   "cell_type": "markdown",
>>>>>>> model modification pour different predicator
   "metadata": {},
   "source": [
    "Nous alllons utiliser un modèle SVM pour classifier nos données.\n",
    "Voici les valeurs des hyperparametres que nous avons choisi:\n",
    "- epochs:1000\n",
    "- Kernel function: Radial Basis Function (rbf)\n",
    "$K(x_1,x_2)=exp(-\\gamma||x_1-x_2||^2)$\n",
    "- Gamma:\"scale\" that means $\\gamma=\\frac{1}{n\\_features \\times X.var}$\n",
    "\n",
    "- Decision function: ovr which means 'one versus rest'. \n",
    "Each class is  against all the other classes independently. The model create a classifier for each situation. The model creates a binary label for whether a point is in a class or not.\n",
    "\n"
   ]
  },
  {
   "cell_type": "markdown",
   "metadata": {},
   "source": [
    "# Evalution   \n",
    "To score our model, we will use the $f_1$ score.  \n",
    "${\\displaystyle f_{1_{i}}=\\left({\\frac {2}{\\mathrm {recall} ^{-1}+\\mathrm {precision} ^{-1}}}\\right)=2\\cdot {\\frac {\\mathrm {precision} \\cdot \\mathrm {recall} }{\\mathrm {precision} +\\mathrm {recall} }}}$   \n",
    "This function compute the score for the $categorie_i$ \n",
    "Here we have more than two categories so we will use the mean $f_1$ score to compute our final score : \n",
    "$ F_1 = \\frac{1}{n} \\sum_{i}^{n} f_{1_i}$  "
   ]
  },
  {
   "cell_type": "markdown",
   "metadata": {},
   "source": [
<<<<<<< HEAD
    "### SVM on HoG features"
   ]
  },
  {
   "cell_type": "code",
   "execution_count": 12,
   "metadata": {},
   "outputs": [
    {
     "name": "stdout",
     "output_type": "stream",
     "text": [
      "(12030, 800)\n",
      "score for 3 categories using HoG features :  0.6802992518703241\n"
     ]
    }
   ],
   "source": [
    "model = Model(model_type ='SVM',hyperparameters= hyperparameters, predictors = 'hog_features', targets=[0,3,4])\n",
    "model.create_model()\n",
    "model.train(data_formatter_train.data.dropna())\n",
    "print('score for 3 categories using HoG features : ', model.test(data_formatter_test.data.dropna()))"
   ]
  },
  {
   "cell_type": "markdown",
   "metadata": {},
   "source": [
    "### SVM on lbp features"
   ]
  },
  {
   "cell_type": "code",
   "execution_count": 13,
   "metadata": {},
   "outputs": [
    {
     "name": "stdout",
     "output_type": "stream",
     "text": [
      "(12030, 2295)\n",
      "score for 3 categories using lbp features :  0.6438902743142144\n"
     ]
    }
   ],
   "source": [
    "model = Model(model_type ='SVM',hyperparameters= hyperparameters, predictors = 'lbp', targets=[0,3,4])\n",
    "model.create_model()\n",
    "model.train(data_formatter_train.data)\n",
    "print('score for 3 categories using lbp features : ', model.test(data_formatter_test.data.dropna()))"
   ]
  },
  {
   "cell_type": "markdown",
   "metadata": {},
   "source": [
=======
>>>>>>> model modification pour different predicator
    "# Conclusions"
   ]
  },
  {
   "cell_type": "code",
   "execution_count": 9,
   "metadata": {},
   "outputs": [
    {
     "data": {
      "image/png": "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\n",
      "text/plain": [
       "<Figure size 576x432 with 1 Axes>"
      ]
     },
     "metadata": {
      "needs_background": "light"
     },
     "output_type": "display_data"
    }
   ],
   "source": []
  },
  {
   "cell_type": "markdown",
   "metadata": {},
   "source": [
    "### Preprocess"
   ]
  },
  {
   "cell_type": "markdown",
   "metadata": {},
   "source": [
    "#### HoG features "
   ]
  },
  {
   "cell_type": "code",
   "execution_count": 8,
   "metadata": {},
   "outputs": [],
   "source": [
    "data_train, data_test = train_test_split(csv)\n",
    "\n",
    "data_formatter_train = dataFormatter(data_train)\n",
    "data_formatter_test = dataFormatter(data_test)"
   ]
  },
  {
   "cell_type": "code",
   "execution_count": 9,
   "metadata": {},
   "outputs": [
    {
     "name": "stderr",
     "output_type": "stream",
     "text": [
      "C:\\Users\\oscar\\Documents\\cours supelec\\3a\\VIC\\Projet\\project_vic\\data_preprocess.py:34: SettingWithCopyWarning: \n",
      "A value is trying to be set on a copy of a slice from a DataFrame.\n",
      "Try using .loc[row_indexer,col_indexer] = value instead\n",
      "\n",
      "See the caveats in the documentation: http://pandas.pydata.org/pandas-docs/stable/user_guide/indexing.html#returning-a-view-versus-a-copy\n",
      "  self.data['hog_features'] = hog_features\n"
     ]
    }
   ],
   "source": [
    "hog_image_train = data_formatter_train.compute_hog()\n",
    "hog_image_test = data_formatter_test.compute_hog()"
   ]
  },
  {
   "cell_type": "code",
   "execution_count": 10,
   "metadata": {},
   "outputs": [
    {
     "name": "stderr",
     "output_type": "stream",
     "text": [
      "C:\\Users\\oscar\\Documents\\cours supelec\\3a\\VIC\\Projet\\project_vic\\data_preprocess.py:46: SettingWithCopyWarning: \n",
      "A value is trying to be set on a copy of a slice from a DataFrame.\n",
      "Try using .loc[row_indexer,col_indexer] = value instead\n",
      "\n",
      "See the caveats in the documentation: http://pandas.pydata.org/pandas-docs/stable/user_guide/indexing.html#returning-a-view-versus-a-copy\n",
      "  self.data['landmarks'] = landmarks\n"
     ]
    }
   ],
   "source": [
    "image_landmarks_train = data_formatter_train.compute_landmarks()\n",
    "image_landmarks_test = data_formatter_test.compute_landmarks()"
   ]
  },
  {
   "cell_type": "code",
   "execution_count": null,
   "metadata": {},
   "outputs": [],
   "source": [
    "index = 1\n",
    "\n",
    "hog_image_rescaled = exposure.rescale_intensity(hog_image_train[index], in_range=(0, 10))\n",
    "img = get_image(index)\n",
    "\n",
    "fig, (ax1, ax2) = plt.subplots(1, 2, figsize=(8, 4), sharex=True, sharey=True)\n",
    "ax1.set_title(emotions_mapping[csv.emotion.values[index]])\n",
    "ax1.axis('off')\n",
    "ax1.imshow(img, cmap=plt.cm.gray)\n",
    "\n",
    "# Rescale histogram for better display\n",
    "\n",
    "ax2.axis('off')\n",
    "ax2.imshow(hog_image_rescaled, cmap=plt.cm.gray)\n",
    "ax2.set_title('Histogram of Oriented Gradients')\n",
    "plt.show()"
   ]
  },
  {
   "cell_type": "code",
   "execution_count": 98,
   "metadata": {},
   "outputs": [
    {
     "data": {
      "text/plain": [
       "<matplotlib.image.AxesImage at 0x136aa2b70>"
      ]
     },
     "execution_count": 98,
     "metadata": {},
     "output_type": "execute_result"
    },
    {
     "data": {
      "image/png": "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\n",
      "text/plain": [
       "<Figure size 432x288 with 1 Axes>"
      ]
     },
     "metadata": {
      "needs_background": "light"
     },
     "output_type": "display_data"
    }
   ],
   "source": [
    "hog_image_rescaled = exposure.rescale_intensity(hog_image_train[index], in_range=(0, 10))\n",
    "img = get_image(index)\n",
    "plt.imshow(hog_image_rescaled)\n",
    "plt.imshow(img)\n",
    "\n"
   ]
  },
  {
   "cell_type": "code",
   "execution_count": null,
   "metadata": {},
   "outputs": [],
   "source": [
    "data_formatter_train.process_target()\n",
    "data_formatter_test.process_target()"
   ]
  },
  {
   "cell_type": "code",
   "execution_count": 15,
   "metadata": {},
   "outputs": [
    {
     "name": "stdout",
     "output_type": "stream",
     "text": [
      "(21531, 2048)\n"
     ]
    }
   ],
   "source": [
    "hyperparameters = dict({'random_state' : None,\n",
    "                        'epochs':10000,\n",
    "                        'kernel':'rbf',\n",
    "                        'decision_function':'ovr',\n",
    "                        'gamma':'scale'\n",
    "                       })\n",
    "model = Model(model_type ='SVM',hyperparameters= hyperparameters, predictors = 'hog_features', targets=[0,3,4])\n",
    "model.create_model()\n",
    "debut=time()\n",
    "model.train(data_formatter_train.data)\n",
    "print(\"Training time: \",time()-debut)"
   ]
  },
  {
   "cell_type": "code",
   "execution_count": 24,
   "metadata": {},
   "outputs": [
    {
     "name": "stdout",
     "output_type": "stream",
     "text": [
      "(21531, 136)\n",
      "Training time:  122.78208231925964\n"
     ]
    }
   ],
   "source": [
    "hyperparameters = dict({'random_state' : None,\n",
    "                        'epochs':10000,\n",
    "                        'kernel':'rbf',\n",
    "                        'decision_function':'ovr',\n",
    "                        'gamma':'scale'\n",
    "                       })\n",
    "model_landmark = Model(model_type ='SVM',hyperparameters= hyperparameters, predictors = 'landmark', targets=[0,3,4])\n",
    "model_landmark.create_model()\n",
    "debut=time()\n",
    "model_landmark.train(data_formatter_train.data)\n",
    "print(\"Training time: \",time()-debut)"
   ]
  },
  {
   "cell_type": "code",
   "execution_count": 26,
   "metadata": {},
   "outputs": [
    {
     "name": "stdout",
     "output_type": "stream",
     "text": [
      "(21531, 2184)\n",
      "Training time:  1535.9874475002289\n"
     ]
    }
   ],
   "source": [
    "hyperparameters = dict({'random_state' : None,\n",
    "                        'epochs':10000,\n",
    "                        'kernel':'rbf',\n",
    "                        'decision_function':'ovr',\n",
    "                        'gamma':'scale'\n",
    "                       })\n",
    "model_hog_landmark = Model(model_type ='SVM',hyperparameters= hyperparameters, predictors = 'hog_and_landmark', targets=[0,3,4])\n",
    "model_hog_landmark.create_model()\n",
    "debut=time()\n",
    "model_hog_landmark.train(data_formatter_train.data)\n",
    "print(\"Training time: \",time()-debut)"
   ]
  },
  {
   "cell_type": "code",
   "execution_count": 16,
   "metadata": {},
   "outputs": [
    {
     "data": {
      "text/plain": [
       "0.5034828643076066"
      ]
     },
     "execution_count": 16,
     "metadata": {},
     "output_type": "execute_result"
    }
   ],
   "source": [
    "model.test(data_formatter_test.data)\n",
    "## score "
   ]
  },
  {
   "cell_type": "code",
   "execution_count": 25,
   "metadata": {},
   "outputs": [
    {
     "data": {
      "text/plain": [
       "0.4615491780440234"
      ]
     },
     "execution_count": 25,
     "metadata": {},
     "output_type": "execute_result"
    }
   ],
   "source": [
    "model_landmark.test(data_formatter_test.data)\n"
   ]
  },
  {
   "cell_type": "code",
   "execution_count": 29,
   "metadata": {},
   "outputs": [
    {
     "data": {
      "text/plain": [
       "0.4322931178601282"
      ]
     },
     "execution_count": 29,
     "metadata": {},
     "output_type": "execute_result"
    }
   ],
   "source": [
    "model_hog_landmark.test(data_formatter_test.data)\n"
   ]
  },
  {
   "cell_type": "markdown",
   "metadata": {},
   "source": [
    "# References\n",
    "[1] Christopher Pramerdorfer, Martin Kampel. \"Facial Expression Recognition using Convolutional Neural Networks: State of the Art\".\n",
    "\n",
    "[2] Kazemi and Sullivan \"One Millisecond Face Alignment with an Ensemble of Regression Trees\"  (2014)"
   ]
  },
  {
   "cell_type": "code",
   "execution_count": 84,
   "metadata": {},
   "outputs": [
    {
     "data": {
      "text/plain": [
       "<matplotlib.image.AxesImage at 0x13799fe80>"
      ]
     },
     "execution_count": 84,
     "metadata": {},
     "output_type": "execute_result"
    },
    {
     "data": {
      "image/png": "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\n",
      "text/plain": [
       "<Figure size 432x288 with 1 Axes>"
      ]
     },
     "metadata": {
      "needs_background": "light"
     },
     "output_type": "display_data"
    }
   ],
   "source": [
    "x =data_formatter_test.data.landmarks.values[127] \n",
    "#plt.scatter(x[:,0], x[:,1])\n",
    "plt.scatter(np.array(x[:,0]),np.array(x[:,1]))\n",
    "plt.imshow(get_image(127), cmap= 'gray')"
   ]
  },
  {
   "cell_type": "code",
   "execution_count": 89,
   "metadata": {},
   "outputs": [
    {
     "data": {
      "text/plain": [
       "array([[ 0.        ,  0.        ,  0.        , ...,  0.        ,\n",
       "         0.        ,  0.        ],\n",
       "       [ 0.        ,  4.56812   , 37.71859169, ..., 41.91429138,\n",
       "        27.41331291,  0.        ],\n",
       "       [ 0.        , 37.71859169,  4.56812   , ..., 27.41331291,\n",
       "        41.91429138,  0.        ],\n",
       "       ...,\n",
       "       [ 0.        ,  2.3420085 ,  4.91549182, ..., 12.97058618,\n",
       "         3.6875    ,  0.        ],\n",
       "       [ 0.        ,  4.91549182,  2.3420085 , ...,  3.6875    ,\n",
       "        12.97058618,  0.        ],\n",
       "       [ 0.        ,  0.        ,  0.        , ...,  0.        ,\n",
       "         0.        ,  0.        ]])"
      ]
     },
     "execution_count": 89,
     "metadata": {},
     "output_type": "execute_result"
    }
   ],
   "source": [
    "hog_image_train[0]"
   ]
  },
  {
   "cell_type": "code",
   "execution_count": null,
   "metadata": {},
   "outputs": [],
   "source": []
  }
 ],
 "metadata": {
  "kernelspec": {
   "display_name": "Python 3",
   "language": "python",
   "name": "python3"
  },
  "language_info": {
   "codemirror_mode": {
    "name": "ipython",
    "version": 3
   },
   "file_extension": ".py",
   "mimetype": "text/x-python",
   "name": "python",
   "nbconvert_exporter": "python",
   "pygments_lexer": "ipython3",
   "version": "3.7.3"
  }
 },
 "nbformat": 4,
 "nbformat_minor": 2
}
